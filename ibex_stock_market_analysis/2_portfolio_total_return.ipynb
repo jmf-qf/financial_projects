{
 "cells": [
  {
   "cell_type": "markdown",
   "metadata": {},
   "source": [
    "# Investment Portfolio Performance in terms of Total Return"
   ]
  },
  {
   "cell_type": "code",
   "execution_count": 7,
   "metadata": {
    "scrolled": false
   },
   "outputs": [],
   "source": [
    "import pandas as pd\n",
    "import re\n",
    "import numpy as np\n",
    "import datetime\n",
    "\n",
    "# Initial investment 1.000.000$\n",
    "\n",
    "def portfolio_summary(csv_investing):\n",
    "    print(f\"Updated: {datetime.date.today()}\")\n",
    "    p = pd.read_csv(csv_investing, sep=None, index_col=0,engine=\"python\") #importing the csv from investing.com\n",
    "    print(p)\n",
    "    p[\"B/P neto\"] = p[\"B/P neto\"].str.replace(r'€|\\.',\"\", regex=True).replace(r',','.', regex=True)\n",
    "    p[\"B/P neto\"] = p[\"B/P neto\"].astype(float) #formatting csv data to valid Python data\n",
    "    total_return = p[\"B/P neto\"].cumsum() #summing \"Total gain\" column\n",
    "    formatted_float = \"€{:,.2f}\".format(total_return[7])\n",
    "    gains = (total_return[7] / 1000000 *100).round(2)\n",
    "    gains = str(gains)+\"%\"\n",
    "    data = {\"Total Gains in €\":  [formatted_float],\n",
    "        \"Total Gains in %\": [gains]} #creating a dataframe with the output\n",
    "    performance = pd.DataFrame(data)\n",
    "    return performance"
   ]
  },
  {
   "cell_type": "code",
   "execution_count": 8,
   "metadata": {},
   "outputs": [
    {
     "name": "stdout",
     "output_type": "stream",
     "text": [
      "Updated: 2020-07-17\n",
      "                Símbolo Fecha de apertura    Tipo Precio de entrada  \\\n",
      "﻿Nombre                                                               \n",
      "Indra               IDR        19/03/2020  Compra              8,05   \n",
      "Siemens Gamesa    SGREN        19/03/2020  Compra             12,44   \n",
      "Red Eléctrica       REE        19/03/2020  Compra            15,215   \n",
      "Cellnex Telecom    CLNX        19/03/2020  Compra             38,02   \n",
      "Iberdrola           IBE        19/03/2020  Compra              8,73   \n",
      "Acciona             ANA        19/03/2020  Compra              98,5   \n",
      "Grifols            GRLS        19/03/2020  Compra             29,95   \n",
      "Viscofan            VIS        19/03/2020  Compra             48,56   \n",
      "\n",
      "                Precio actual  Val. mercado % B/P neto      B/P neto  \n",
      "﻿Nombre                                                               \n",
      "Indra                   6,875  106.754,66 €    -14,60%  -18.245,34 €  \n",
      "Siemens Gamesa         18,562  186.515,27 €     49,21%   61.515,27 €  \n",
      "Red Eléctrica          17,023  139.853,76 €     11,88%   14.853,76 €  \n",
      "Cellnex Telecom         57,22  188.124,67 €     50,50%   63.124,67 €  \n",
      "Iberdrola               11,09  158.753,35 €     27,03%   33.783,40 €  \n",
      "Acciona                 96,55  122.525,38 €     -1,98%   -2.474,62 €  \n",
      "Grifols                 26,98  112.604,34 €     -9,92%  -12.395,66 €  \n",
      "Viscofan                58,25  149.943,37 €     19,95%   24.943,37 €  \n"
     ]
    },
    {
     "data": {
      "text/html": [
       "<div>\n",
       "<style scoped>\n",
       "    .dataframe tbody tr th:only-of-type {\n",
       "        vertical-align: middle;\n",
       "    }\n",
       "\n",
       "    .dataframe tbody tr th {\n",
       "        vertical-align: top;\n",
       "    }\n",
       "\n",
       "    .dataframe thead th {\n",
       "        text-align: right;\n",
       "    }\n",
       "</style>\n",
       "<table border=\"1\" class=\"dataframe\">\n",
       "  <thead>\n",
       "    <tr style=\"text-align: right;\">\n",
       "      <th></th>\n",
       "      <th>Total Gains in €</th>\n",
       "      <th>Total Gains in %</th>\n",
       "    </tr>\n",
       "  </thead>\n",
       "  <tbody>\n",
       "    <tr>\n",
       "      <th>0</th>\n",
       "      <td>€165,104.85</td>\n",
       "      <td>16.51%</td>\n",
       "    </tr>\n",
       "  </tbody>\n",
       "</table>\n",
       "</div>"
      ],
      "text/plain": [
       "  Total Gains in € Total Gains in %\n",
       "0      €165,104.85           16.51%"
      ]
     },
     "execution_count": 8,
     "metadata": {},
     "output_type": "execute_result"
    }
   ],
   "source": [
    "portfolio_summary(\"short_term_efficient_portfolio.csv\")"
   ]
  },
  {
   "cell_type": "code",
   "execution_count": 9,
   "metadata": {
    "scrolled": false
   },
   "outputs": [
    {
     "name": "stdout",
     "output_type": "stream",
     "text": [
      "Updated: 2020-07-17\n",
      "                Símbolo Fecha de apertura    Tipo Precio de entrada  \\\n",
      "﻿Nombre                                                               \n",
      "Cie Automotive     CIEA        19/03/2020  Compra             10,16   \n",
      "MásMóvil           MASM        19/03/2020  Compra                13   \n",
      "Red Eléctrica       REE        19/03/2020  Compra            15,215   \n",
      "Cellnex Telecom    CLNX        19/03/2020  Compra             38,02   \n",
      "Amadeus             AMA        19/03/2020  Compra             42,48   \n",
      "Aena               AENA        19/03/2020  Compra             105,3   \n",
      "Ferrovial           FER        19/03/2020  Compra             17,78   \n",
      "Inditex             ITX        19/03/2020  Compra             20,75   \n",
      "\n",
      "                Precio actual  Val. mercado % B/P neto      B/P neto  \n",
      "﻿Nombre                                                               \n",
      "Cie Automotive          15,59   96.670,28 €     53,44%   33.670,28 €  \n",
      "MásMóvil                22,72  321.575,39 €     74,77%  137.575,39 €  \n",
      "Red Eléctrica          17,023  226.003,68 €     11,88%   24.003,68 €  \n",
      "Cellnex Telecom         57,22  337.119,41 €     50,50%  113.119,41 €  \n",
      "Amadeus                47,475  103.935,38 €     11,76%   10.935,38 €  \n",
      "Aena                    121,4  134.888,89 €     15,29%   17.888,89 €  \n",
      "Ferrovial               22,97   82.646,06 €     29,19%   18.673,62 €  \n",
      "Inditex                 23,07   58.925,78 €     11,18%    5.925,78 €  \n"
     ]
    },
    {
     "data": {
      "text/html": [
       "<div>\n",
       "<style scoped>\n",
       "    .dataframe tbody tr th:only-of-type {\n",
       "        vertical-align: middle;\n",
       "    }\n",
       "\n",
       "    .dataframe tbody tr th {\n",
       "        vertical-align: top;\n",
       "    }\n",
       "\n",
       "    .dataframe thead th {\n",
       "        text-align: right;\n",
       "    }\n",
       "</style>\n",
       "<table border=\"1\" class=\"dataframe\">\n",
       "  <thead>\n",
       "    <tr style=\"text-align: right;\">\n",
       "      <th></th>\n",
       "      <th>Total Gains in €</th>\n",
       "      <th>Total Gains in %</th>\n",
       "    </tr>\n",
       "  </thead>\n",
       "  <tbody>\n",
       "    <tr>\n",
       "      <th>0</th>\n",
       "      <td>€361,792.43</td>\n",
       "      <td>36.18%</td>\n",
       "    </tr>\n",
       "  </tbody>\n",
       "</table>\n",
       "</div>"
      ],
      "text/plain": [
       "  Total Gains in € Total Gains in %\n",
       "0      €361,792.43           36.18%"
      ]
     },
     "execution_count": 9,
     "metadata": {},
     "output_type": "execute_result"
    }
   ],
   "source": [
    "portfolio_summary(\"optimised_portfolio_2009_2020.csv\")"
   ]
  },
  {
   "cell_type": "code",
   "execution_count": 10,
   "metadata": {},
   "outputs": [],
   "source": [
    "# The benchmark is the IBEX35:\n",
    "from pandas_datareader import data as wb\n",
    "def benchmark(index):\n",
    "    print(f\"Updated: {datetime.date.today()}\")\n",
    "    data = wb.DataReader(index,data_source=\"yahoo\", start=\"2020-03-19\", end=str(datetime.date.today()))[\"Adj Close\"]\n",
    "    benchmark = (data.iloc[data.shape[0]-1] - data.iloc[0]) / data.iloc[0] *100\n",
    "    return str(benchmark.round(2)) +'%'"
   ]
  },
  {
   "cell_type": "code",
   "execution_count": 11,
   "metadata": {},
   "outputs": [
    {
     "name": "stdout",
     "output_type": "stream",
     "text": [
      "Updated: 2020-07-17\n"
     ]
    },
    {
     "data": {
      "text/plain": [
       "'16.33%'"
      ]
     },
     "execution_count": 11,
     "metadata": {},
     "output_type": "execute_result"
    }
   ],
   "source": [
    "benchmark(\"^IBEX\")"
   ]
  }
 ],
 "metadata": {
  "kernelspec": {
   "display_name": "Python 3",
   "language": "python",
   "name": "python3"
  },
  "language_info": {
   "codemirror_mode": {
    "name": "ipython",
    "version": 3
   },
   "file_extension": ".py",
   "mimetype": "text/x-python",
   "name": "python",
   "nbconvert_exporter": "python",
   "pygments_lexer": "ipython3",
   "version": "3.7.4"
  }
 },
 "nbformat": 4,
 "nbformat_minor": 2
}
