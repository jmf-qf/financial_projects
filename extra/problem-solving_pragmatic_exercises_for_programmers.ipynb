{
 "cells": [
  {
   "cell_type": "code",
   "execution_count": 12,
   "metadata": {},
   "outputs": [
    {
     "name": "stdout",
     "output_type": "stream",
     "text": [
      "What is the input string? \n",
      "Please enter your name\n",
      "What is the input string? \n",
      "Please enter your name\n",
      "What is the input string? Julio\n",
      "Julio has 5 characters\n"
     ]
    }
   ],
   "source": [
    "#solution\n",
    "x = str(input(\"What is the input string? \"))\n",
    "\n",
    "while x== \"\":\n",
    "    print(\"Please enter your name\")\n",
    "    x = str(input(\"What is the input string? \"))\n",
    "\n",
    "\n",
    "print(f\"{x} has {len(x)} characters\")"
   ]
  },
  {
   "cell_type": "code",
   "execution_count": 13,
   "metadata": {},
   "outputs": [],
   "source": [
    "def printing_quotes():\n",
    "    x=input(\"What is the quote? \")\n",
    "    y=input(\"Who said that?\")\n",
    "    print(y+\" said:\"+x)"
   ]
  },
  {
   "cell_type": "code",
   "execution_count": 14,
   "metadata": {},
   "outputs": [
    {
     "name": "stdout",
     "output_type": "stream",
     "text": [
      "What is the quote? El hombre es producto de sus pensamientos\n",
      "Who said that?Gandhi\n",
      "Gandhi said:El hombre es producto de sus pensamientos\n"
     ]
    }
   ],
   "source": [
    "printing_quotes()"
   ]
  },
  {
   "cell_type": "code",
   "execution_count": 15,
   "metadata": {},
   "outputs": [
    {
     "name": "stdout",
     "output_type": "stream",
     "text": [
      "Enter a noun? a\n",
      "Enter a verb? a\n",
      "Enter an adjective? a\n",
      "Enter an averb? a\n",
      "Do you a your a a a?. That's hilarious!\n"
     ]
    }
   ],
   "source": [
    "#solution:\n",
    "noun = input(\"Enter a noun? \")\n",
    "verb = input(\"Enter a verb? \")\n",
    "adjective = input(\"Enter an adjective? \")\n",
    "adverb = input(\"Enter an averb? \")\n",
    "\n",
    "print(f\"Do you {verb} your {adjective} {noun} {adverb}?. That's hilarious!\")"
   ]
  },
  {
   "cell_type": "code",
   "execution_count": 32,
   "metadata": {},
   "outputs": [
    {
     "name": "stdout",
     "output_type": "stream",
     "text": [
      "first number? 3\n",
      "second? 1\n",
      "4.0\n",
      "2.0\n",
      "3.0\n",
      "3.0\n"
     ]
    }
   ],
   "source": [
    "first=input(\"first number? \")\n",
    "second=input(\"second? \")\n",
    "ff=float(first)\n",
    "sf=float(second)\n",
    "def solving():\n",
    "    print(ff+sf)\n",
    "    print(ff-sf)\n",
    "    print(ff*sf)\n",
    "    print(ff/sf)\n",
    "    \n",
    "solving()"
   ]
  },
  {
   "cell_type": "code",
   "execution_count": 43,
   "metadata": {},
   "outputs": [
    {
     "name": "stdout",
     "output_type": "stream",
     "text": [
      "What is the first number? 3\n",
      "What is the second number? 1\n",
      "3 + 1 = 4\n",
      "3 - 1 = 2\n",
      "3*1 = 3\n",
      "3/1 = 3.0\n"
     ]
    }
   ],
   "source": [
    "#solution:\n",
    "x = int(input(\"What is the first number? \"))\n",
    "y = int(input(\"What is the second number? \"))\n",
    "\n",
    "print (f\"{x} + {y} =\",x+y)\n",
    "print (f\"{x} - {y} =\",x-y)\n",
    "print (f\"{x}*{y} =\",x*y)\n",
    "print (f\"{x}/{y} =\",round(x/y,2))"
   ]
  },
  {
   "cell_type": "code",
   "execution_count": 144,
   "metadata": {},
   "outputs": [],
   "source": [
    "from datetime import date"
   ]
  },
  {
   "cell_type": "code",
   "execution_count": 145,
   "metadata": {},
   "outputs": [
    {
     "data": {
      "text/plain": [
       "datetime.date(2020, 4, 10)"
      ]
     },
     "execution_count": 145,
     "metadata": {},
     "output_type": "execute_result"
    }
   ],
   "source": [
    "date.today()"
   ]
  },
  {
   "cell_type": "code",
   "execution_count": 165,
   "metadata": {},
   "outputs": [
    {
     "name": "stdout",
     "output_type": "stream",
     "text": [
      "what is your age? 20\n",
      "desired age to retire? 60\n",
      "You have 40 years to retire\n",
      "it is 2020-04-10, you will retire in 2040\n"
     ]
    }
   ],
   "source": [
    "age=int(input(\"what is your age? \"))\n",
    "retirement=int(input(\"desired age to retire? \"))\n",
    "print(f\"You have {retirement-age} years to retire\")\n",
    "print(f\"it is {date.today()}, you will retire in {2020+age}\")"
   ]
  },
  {
   "cell_type": "code",
   "execution_count": 154,
   "metadata": {},
   "outputs": [],
   "source": [
    "import time\n",
    "import datetime"
   ]
  },
  {
   "cell_type": "code",
   "execution_count": 155,
   "metadata": {},
   "outputs": [
    {
     "name": "stdout",
     "output_type": "stream",
     "text": [
      "['MAXYEAR', 'MINYEAR', '__builtins__', '__cached__', '__doc__', '__file__', '__loader__', '__name__', '__package__', '__spec__', 'date', 'datetime', 'datetime_CAPI', 'sys', 'time', 'timedelta', 'timezone', 'tzinfo']\n"
     ]
    }
   ],
   "source": [
    "print(dir(datetime))"
   ]
  },
  {
   "cell_type": "code",
   "execution_count": 173,
   "metadata": {},
   "outputs": [
    {
     "name": "stdout",
     "output_type": "stream",
     "text": [
      "-7205 days, 0:00:00\n"
     ]
    }
   ],
   "source": [
    "t1 = date.today()\n",
    "t2 = date(year = 2020+age,month=1,day=1)\n",
    "t3 = t1 - t2\n",
    "print(t3)"
   ]
  },
  {
   "cell_type": "code",
   "execution_count": 174,
   "metadata": {
    "scrolled": true
   },
   "outputs": [
    {
     "name": "stdout",
     "output_type": "stream",
     "text": [
      "2040-01-01\n"
     ]
    }
   ],
   "source": [
    "print(t2)"
   ]
  },
  {
   "cell_type": "code",
   "execution_count": 192,
   "metadata": {},
   "outputs": [
    {
     "name": "stdout",
     "output_type": "stream",
     "text": [
      "length? 15\n",
      "width? 20\n",
      "you entered 15.0 as length and 20.0 as width\n",
      "is it correct? yes\n",
      "the area is: 300.0 square feet\n",
      "the area is: 27.63 square meters\n"
     ]
    }
   ],
   "source": [
    "#ex.7\n",
    "length=float(input(\"length? \"))\n",
    "width=float(input(\"width? \"))\n",
    "print(f\"you entered {length} as length and {width} as width\")\n",
    "a=input(\"is it correct? \")\n",
    "if a==\"yes\":\n",
    "    b=length*width\n",
    "    d=0.0921\n",
    "    c=b*d\n",
    "    print(f\"the area is: {b} square feet\")\n",
    "    print(f\"the area is: {c} square meters\")\n",
    "else:\n",
    "    print(\"error\")\n",
    "        "
   ]
  },
  {
   "cell_type": "code",
   "execution_count": 27,
   "metadata": {},
   "outputs": [
    {
     "name": "stdout",
     "output_type": "stream",
     "text": [
      "How many people? 3\n",
      "How many pizzas? 5\n",
      "there are 3 people and 5 pizzas\n",
      "each person gets 7.0 slices\n",
      "there are leftovers\n"
     ]
    }
   ],
   "source": [
    "p=int(input(\"How many people? \"))\n",
    "z=int(input(\"How many pizzas? \"))\n",
    "\n",
    "print(f'there are {p} people and {z} pizzas')\n",
    "\n",
    "slices=z*4\n",
    "x=slices/p\n",
    "\n",
    "if x%2==0 or x==1:\n",
    "    print(f'each person gets {x} slices of pizza')\n",
    "    print(f'there are 0 leftover')\n",
    "\n",
    "else: \n",
    "    y=round(x,0)\n",
    "    print(f'each person gets {y} slices')\n",
    "    print(f'there are leftovers')\n",
    "    \n",
    "\n",
    "    "
   ]
  },
  {
   "cell_type": "code",
   "execution_count": 29,
   "metadata": {},
   "outputs": [
    {
     "name": "stdout",
     "output_type": "stream",
     "text": [
      "How many people are you? 1\n",
      "How many pizza do you have? 1\n",
      "1.0 people and 1.0 pizzas\n",
      "Each person gets 8 pieces of pizza.\n",
      "There are 0.0 leftovers pieces\n"
     ]
    }
   ],
   "source": [
    "#solution ex. 8:\n",
    "import math\n",
    "X = False \n",
    "while X != True: \n",
    "    try:  \n",
    "        people = float(input(\"How many people are you? \"))\n",
    "        pizza = float(input(\"How many pizza do you have? \"))\n",
    "        X = True \n",
    "    except ValueError:\n",
    "        print('Non-numeric data found in the file. \\n Please enter them in again?')\n",
    "        X = False \n",
    "        \n",
    "num = pizza*8\n",
    "each = math.trunc(num/people) \n",
    "left = num%people \n",
    "print(f\"{people} people and {pizza} pizzas\")\n",
    "print(f\"Each person gets {each} pieces of pizza.\")\n",
    "print(f\"There are {left} leftovers pieces\")"
   ]
  },
  {
   "cell_type": "code",
   "execution_count": 36,
   "metadata": {},
   "outputs": [
    {
     "name": "stdout",
     "output_type": "stream",
     "text": [
      "What is the ceiling square foot?: 8000\n",
      "you will need to purchase 23 gallons of paint \n",
      "to cover 8000 square feets\n"
     ]
    }
   ],
   "source": [
    "import math\n",
    "\n",
    "x=int(input(\"What is the ceiling square foot?: \"))\n",
    "q=x/350\n",
    "print(f'you will need to purchase {math.ceil(q)} gallons of paint \\nto cover {x} square feets')"
   ]
  },
  {
   "cell_type": "code",
   "execution_count": 47,
   "metadata": {},
   "outputs": [
    {
     "name": "stdout",
     "output_type": "stream",
     "text": [
      "Is the room round or rec? rec\n",
      "Lenght of roof? 0.5\n",
      "Width of roof? 0.5\n",
      "You will need to purchase 1\n",
      "gallons of paint to cover 0.25 squre feet\n"
     ]
    }
   ],
   "source": [
    "#solution\n",
    "room = input(\"Is the room round or rec? \" )\n",
    "\n",
    "if room == 'rec':\n",
    "    x = False \n",
    "    while x == False:\n",
    "        try: \n",
    "            l = float(input(\"Lenght of roof? \"))\n",
    "            w = float(input(\"Width of roof? \"))\n",
    "            x = True\n",
    "        except ValueError:\n",
    "            print(\"Enter a number > \")\n",
    "            x = False \n",
    "            \n",
    "\n",
    "    area = l*w\n",
    "    paint = math.ceil(area/360)\n",
    "    print(f\"You will need to purchase {paint}\\ngallons of paint to cover {area} square feet\")\n",
    "  \n",
    "    \n",
    "if room == 'round':\n",
    "    x = False \n",
    "    while x == False:\n",
    "        try: \n",
    "            r = float(input(\"Radius of roof? \"))\n",
    "            x = True\n",
    "        except ValueError:\n",
    "            print(\"Enter a number > \")\n",
    "            x = False \n",
    "    area = math.pi*r**2\n",
    "    paint = math.ceil(area/360) \n",
    "    print(f\"You will need to purchase {paint}\\ngallons of paint to cover {area} squre feet\")\n"
   ]
  },
  {
   "cell_type": "code",
   "execution_count": 4,
   "metadata": {},
   "outputs": [
    {
     "name": "stdout",
     "output_type": "stream",
     "text": [
      "Enter the price of the item: 3\n",
      "Enter the quantity of the item: 4\n",
      "Enter the price of the item 2: 6\n",
      "Enter the quantity of the item 2: 2\n",
      "Enter the price of the item 3: 9\n",
      "Enter the quantity of the item 3: 8\n",
      "the subtotal is: 96.0$\n",
      "tax is: 5.28$\n",
      "the total is: 101.28$\n"
     ]
    }
   ],
   "source": [
    "tax=0.055\n",
    "p1=float(input(\"Enter the price of the item: \"))\n",
    "q1=float(input(\"Enter the quantity of the item: \"))\n",
    "p2=float(input(\"Enter the price of the item 2: \"))\n",
    "q2=float(input(\"Enter the quantity of the item 2: \"))\n",
    "p3=float(input(\"Enter the price of the item 3: \"))\n",
    "q3=float(input(\"Enter the quantity of the item 3: \"))\n",
    "subtotal=round((p1*q1)+(p2*q2)+(p3*q3),2)\n",
    "print(f'the subtotal is: {subtotal}$')\n",
    "qtax=round(subtotal*tax,2)\n",
    "print(f'tax is: {qtax}$')\n",
    "print(f'the total is: {round(subtotal+qtax,2)}$')\n",
    "    \n",
    "    "
   ]
  },
  {
   "cell_type": "code",
   "execution_count": null,
   "metadata": {},
   "outputs": [],
   "source": [
    "## pro solution 10\n",
    "num = input(\"Please input number of items? \")\n",
    "\n",
    "Subtotal = 0\n",
    "for i in range(1,int(num)+1):\n",
    "    x = False\n",
    "   \n",
    "    while x == False:\n",
    "        try: \n",
    "            price = float(input(f\"Please enter the price of item {i}? \"))\n",
    "            quant = float(input(f\"Please enter the quanity of item {i}?\"))\n",
    "            sub = price*quant\n",
    "            x = True     \n",
    "            Subtotal = Subtotal + sub \n",
    "        \n",
    "        except ValueError:\n",
    "            print(\"Enter a number > \")\n",
    "            x = False \n",
    "tax = Subtotal*.055  \n",
    "total = tax+Subtotal      \n",
    "print(f\"Subtotal: ${Subtotal}\")\n",
    "print(f\"Tax: ${tax}\")\n",
    "print(f\"Total: ${total}\")"
   ]
  },
  {
   "cell_type": "code",
   "execution_count": 3,
   "metadata": {},
   "outputs": [
    {
     "name": "stdout",
     "output_type": "stream",
     "text": [
      "This is a euro conversion program. Pick the currency: USA, BITcoin or Pound USA\n",
      "How may euro's are you exchanging? 10\n",
      "You have 11.87 USA's\n"
     ]
    }
   ],
   "source": [
    "#11\n",
    "Count = {\"USA\" : 1.187,\"Bitcoin\" : .0001, \"Pound\": .88}\n",
    "cur = str(input(\"This is a euro conversion program. Pick the currency: USA, BITcoin or Pound \"))\n",
    "\n",
    "euro = float(input(\"How may euro's are you exchanging? \"))\n",
    "\n",
    "convert = round(float(Count[cur])*euro,2)\n",
    "print(f\"You have {convert} {cur}'s\")"
   ]
  },
  {
   "cell_type": "code",
   "execution_count": 40,
   "metadata": {},
   "outputs": [
    {
     "name": "stdout",
     "output_type": "stream",
     "text": [
      "Principal? a\n",
      "Enter a valid number!!\n"
     ]
    }
   ],
   "source": [
    "#simple interest\n",
    "try:\n",
    "    p0=float(input(\"Principal? \"))\n",
    "    r=float(input(\"Rate ? :\"))\n",
    "    t=float(input(\"Time? :\"))\n",
    "    total=round(p0*(1+(r/100)*t),2)\n",
    "    print(f'Dear Sir, after {int(t)} years, the investment \\nwill be worth {total}$')\n",
    "except ValueError:\n",
    "    print(\"Enter a valid number!!\")"
   ]
  },
  {
   "cell_type": "code",
   "execution_count": 54,
   "metadata": {},
   "outputs": [
    {
     "name": "stdout",
     "output_type": "stream",
     "text": [
      "Enter principle? 10\n",
      "Enter the intrest rate? 5\n",
      "Enter the number of years? 1\n",
      "After 1 years 10\n"
     ]
    }
   ],
   "source": [
    "#solution\n",
    "while True:\n",
    "    try: \n",
    "        P = float(input(\"Enter principle? \"))\n",
    "        r = float(input(\"Enter the intrest rate? \"))\n",
    "        t = int(input(\"Enter the number of years? \" ))\n",
    "        break\n",
    "    except ValueError:\n",
    "        print(\"Enter a number\")\n",
    "    \n",
    "\n",
    "for i in range(1, t+1):\n",
    "    A = P*(1+(r/100)*i)\n",
    "    print(\"After \" + str(i) + \" years \" + str(round(A)))\n",
    "\n",
    "    "
   ]
  },
  {
   "cell_type": "code",
   "execution_count": 59,
   "metadata": {},
   "outputs": [
    {
     "name": "stdout",
     "output_type": "stream",
     "text": [
      "Principal? 10\n",
      "Rate ? :5\n",
      "Time? :2\n",
      "Times compounded?2\n",
      "10.0$ invested at 5.0% for 2 years \n",
      "compounded 2.0 times per year is 10.0\n",
      "Principal? a\n",
      "Enter a valid number!\n"
     ]
    },
    {
     "ename": "KeyboardInterrupt",
     "evalue": "",
     "output_type": "error",
     "traceback": [
      "\u001b[0;31m---------------------------------------------------------------------------\u001b[0m",
      "\u001b[0;31mKeyboardInterrupt\u001b[0m                         Traceback (most recent call last)",
      "\u001b[0;32m/opt/anaconda3/lib/python3.7/site-packages/ipykernel/kernelbase.py\u001b[0m in \u001b[0;36m_input_request\u001b[0;34m(self, prompt, ident, parent, password)\u001b[0m\n\u001b[1;32m    884\u001b[0m             \u001b[0;32mtry\u001b[0m\u001b[0;34m:\u001b[0m\u001b[0;34m\u001b[0m\u001b[0;34m\u001b[0m\u001b[0m\n\u001b[0;32m--> 885\u001b[0;31m                 \u001b[0mident\u001b[0m\u001b[0;34m,\u001b[0m \u001b[0mreply\u001b[0m \u001b[0;34m=\u001b[0m \u001b[0mself\u001b[0m\u001b[0;34m.\u001b[0m\u001b[0msession\u001b[0m\u001b[0;34m.\u001b[0m\u001b[0mrecv\u001b[0m\u001b[0;34m(\u001b[0m\u001b[0mself\u001b[0m\u001b[0;34m.\u001b[0m\u001b[0mstdin_socket\u001b[0m\u001b[0;34m,\u001b[0m \u001b[0;36m0\u001b[0m\u001b[0;34m)\u001b[0m\u001b[0;34m\u001b[0m\u001b[0;34m\u001b[0m\u001b[0m\n\u001b[0m\u001b[1;32m    886\u001b[0m             \u001b[0;32mexcept\u001b[0m \u001b[0mException\u001b[0m\u001b[0;34m:\u001b[0m\u001b[0;34m\u001b[0m\u001b[0;34m\u001b[0m\u001b[0m\n",
      "\u001b[0;32m/opt/anaconda3/lib/python3.7/site-packages/jupyter_client/session.py\u001b[0m in \u001b[0;36mrecv\u001b[0;34m(self, socket, mode, content, copy)\u001b[0m\n\u001b[1;32m    802\u001b[0m         \u001b[0;32mtry\u001b[0m\u001b[0;34m:\u001b[0m\u001b[0;34m\u001b[0m\u001b[0;34m\u001b[0m\u001b[0m\n\u001b[0;32m--> 803\u001b[0;31m             \u001b[0mmsg_list\u001b[0m \u001b[0;34m=\u001b[0m \u001b[0msocket\u001b[0m\u001b[0;34m.\u001b[0m\u001b[0mrecv_multipart\u001b[0m\u001b[0;34m(\u001b[0m\u001b[0mmode\u001b[0m\u001b[0;34m,\u001b[0m \u001b[0mcopy\u001b[0m\u001b[0;34m=\u001b[0m\u001b[0mcopy\u001b[0m\u001b[0;34m)\u001b[0m\u001b[0;34m\u001b[0m\u001b[0;34m\u001b[0m\u001b[0m\n\u001b[0m\u001b[1;32m    804\u001b[0m         \u001b[0;32mexcept\u001b[0m \u001b[0mzmq\u001b[0m\u001b[0;34m.\u001b[0m\u001b[0mZMQError\u001b[0m \u001b[0;32mas\u001b[0m \u001b[0me\u001b[0m\u001b[0;34m:\u001b[0m\u001b[0;34m\u001b[0m\u001b[0;34m\u001b[0m\u001b[0m\n",
      "\u001b[0;32m/opt/anaconda3/lib/python3.7/site-packages/zmq/sugar/socket.py\u001b[0m in \u001b[0;36mrecv_multipart\u001b[0;34m(self, flags, copy, track)\u001b[0m\n\u001b[1;32m    474\u001b[0m         \"\"\"\n\u001b[0;32m--> 475\u001b[0;31m         \u001b[0mparts\u001b[0m \u001b[0;34m=\u001b[0m \u001b[0;34m[\u001b[0m\u001b[0mself\u001b[0m\u001b[0;34m.\u001b[0m\u001b[0mrecv\u001b[0m\u001b[0;34m(\u001b[0m\u001b[0mflags\u001b[0m\u001b[0;34m,\u001b[0m \u001b[0mcopy\u001b[0m\u001b[0;34m=\u001b[0m\u001b[0mcopy\u001b[0m\u001b[0;34m,\u001b[0m \u001b[0mtrack\u001b[0m\u001b[0;34m=\u001b[0m\u001b[0mtrack\u001b[0m\u001b[0;34m)\u001b[0m\u001b[0;34m]\u001b[0m\u001b[0;34m\u001b[0m\u001b[0;34m\u001b[0m\u001b[0m\n\u001b[0m\u001b[1;32m    476\u001b[0m         \u001b[0;31m# have first part already, only loop while more to receive\u001b[0m\u001b[0;34m\u001b[0m\u001b[0;34m\u001b[0m\u001b[0;34m\u001b[0m\u001b[0m\n",
      "\u001b[0;32mzmq/backend/cython/socket.pyx\u001b[0m in \u001b[0;36mzmq.backend.cython.socket.Socket.recv\u001b[0;34m()\u001b[0m\n",
      "\u001b[0;32mzmq/backend/cython/socket.pyx\u001b[0m in \u001b[0;36mzmq.backend.cython.socket.Socket.recv\u001b[0;34m()\u001b[0m\n",
      "\u001b[0;32mzmq/backend/cython/socket.pyx\u001b[0m in \u001b[0;36mzmq.backend.cython.socket._recv_copy\u001b[0;34m()\u001b[0m\n",
      "\u001b[0;32m/opt/anaconda3/lib/python3.7/site-packages/zmq/backend/cython/checkrc.pxd\u001b[0m in \u001b[0;36mzmq.backend.cython.checkrc._check_rc\u001b[0;34m()\u001b[0m\n",
      "\u001b[0;31mKeyboardInterrupt\u001b[0m: ",
      "\nDuring handling of the above exception, another exception occurred:\n",
      "\u001b[0;31mKeyboardInterrupt\u001b[0m                         Traceback (most recent call last)",
      "\u001b[0;32m<ipython-input-59-1217ec987436>\u001b[0m in \u001b[0;36m<module>\u001b[0;34m\u001b[0m\n\u001b[1;32m      1\u001b[0m \u001b[0;32mwhile\u001b[0m \u001b[0;32mTrue\u001b[0m\u001b[0;34m:\u001b[0m\u001b[0;34m\u001b[0m\u001b[0;34m\u001b[0m\u001b[0m\n\u001b[1;32m      2\u001b[0m     \u001b[0;32mtry\u001b[0m\u001b[0;34m:\u001b[0m\u001b[0;34m\u001b[0m\u001b[0;34m\u001b[0m\u001b[0m\n\u001b[0;32m----> 3\u001b[0;31m         \u001b[0mp0\u001b[0m\u001b[0;34m=\u001b[0m\u001b[0mfloat\u001b[0m\u001b[0;34m(\u001b[0m\u001b[0minput\u001b[0m\u001b[0;34m(\u001b[0m\u001b[0;34m\"Principal? \"\u001b[0m\u001b[0;34m)\u001b[0m\u001b[0;34m)\u001b[0m\u001b[0;34m\u001b[0m\u001b[0;34m\u001b[0m\u001b[0m\n\u001b[0m\u001b[1;32m      4\u001b[0m         \u001b[0mr\u001b[0m\u001b[0;34m=\u001b[0m\u001b[0mfloat\u001b[0m\u001b[0;34m(\u001b[0m\u001b[0minput\u001b[0m\u001b[0;34m(\u001b[0m\u001b[0;34m\"Rate ? :\"\u001b[0m\u001b[0;34m)\u001b[0m\u001b[0;34m)\u001b[0m\u001b[0;34m\u001b[0m\u001b[0;34m\u001b[0m\u001b[0m\n\u001b[1;32m      5\u001b[0m         \u001b[0mt\u001b[0m\u001b[0;34m=\u001b[0m\u001b[0mfloat\u001b[0m\u001b[0;34m(\u001b[0m\u001b[0minput\u001b[0m\u001b[0;34m(\u001b[0m\u001b[0;34m\"Time? :\"\u001b[0m\u001b[0;34m)\u001b[0m\u001b[0;34m)\u001b[0m\u001b[0;34m\u001b[0m\u001b[0;34m\u001b[0m\u001b[0m\n",
      "\u001b[0;32m/opt/anaconda3/lib/python3.7/site-packages/ipykernel/kernelbase.py\u001b[0m in \u001b[0;36mraw_input\u001b[0;34m(self, prompt)\u001b[0m\n\u001b[1;32m    858\u001b[0m             \u001b[0mself\u001b[0m\u001b[0;34m.\u001b[0m\u001b[0m_parent_ident\u001b[0m\u001b[0;34m,\u001b[0m\u001b[0;34m\u001b[0m\u001b[0;34m\u001b[0m\u001b[0m\n\u001b[1;32m    859\u001b[0m             \u001b[0mself\u001b[0m\u001b[0;34m.\u001b[0m\u001b[0m_parent_header\u001b[0m\u001b[0;34m,\u001b[0m\u001b[0;34m\u001b[0m\u001b[0;34m\u001b[0m\u001b[0m\n\u001b[0;32m--> 860\u001b[0;31m             \u001b[0mpassword\u001b[0m\u001b[0;34m=\u001b[0m\u001b[0;32mFalse\u001b[0m\u001b[0;34m,\u001b[0m\u001b[0;34m\u001b[0m\u001b[0;34m\u001b[0m\u001b[0m\n\u001b[0m\u001b[1;32m    861\u001b[0m         )\n\u001b[1;32m    862\u001b[0m \u001b[0;34m\u001b[0m\u001b[0m\n",
      "\u001b[0;32m/opt/anaconda3/lib/python3.7/site-packages/ipykernel/kernelbase.py\u001b[0m in \u001b[0;36m_input_request\u001b[0;34m(self, prompt, ident, parent, password)\u001b[0m\n\u001b[1;32m    888\u001b[0m             \u001b[0;32mexcept\u001b[0m \u001b[0mKeyboardInterrupt\u001b[0m\u001b[0;34m:\u001b[0m\u001b[0;34m\u001b[0m\u001b[0;34m\u001b[0m\u001b[0m\n\u001b[1;32m    889\u001b[0m                 \u001b[0;31m# re-raise KeyboardInterrupt, to truncate traceback\u001b[0m\u001b[0;34m\u001b[0m\u001b[0;34m\u001b[0m\u001b[0;34m\u001b[0m\u001b[0m\n\u001b[0;32m--> 890\u001b[0;31m                 \u001b[0;32mraise\u001b[0m \u001b[0mKeyboardInterrupt\u001b[0m\u001b[0;34m\u001b[0m\u001b[0;34m\u001b[0m\u001b[0m\n\u001b[0m\u001b[1;32m    891\u001b[0m             \u001b[0;32melse\u001b[0m\u001b[0;34m:\u001b[0m\u001b[0;34m\u001b[0m\u001b[0;34m\u001b[0m\u001b[0m\n\u001b[1;32m    892\u001b[0m                 \u001b[0;32mbreak\u001b[0m\u001b[0;34m\u001b[0m\u001b[0;34m\u001b[0m\u001b[0m\n",
      "\u001b[0;31mKeyboardInterrupt\u001b[0m: "
     ]
    }
   ],
   "source": [
    "while True:\n",
    "    try:\n",
    "        p0=float(input(\"Principal? \"))\n",
    "        r=float(input(\"Rate ? :\"))\n",
    "        t=float(input(\"Time? :\"))\n",
    "        n=float(input(\"Times compounded?\"))\n",
    "        total=p0*(1+((r/100)/n)**(n*t))\n",
    "        print(f'{round(p0,2)}$ invested at {r}% for {int(t)} years \\ncompounded {n} times per year is {round(total,2)}')\n",
    "        continue\n",
    "    except ValueError:\n",
    "        print(\"Enter a valid number!\")"
   ]
  },
  {
   "cell_type": "code",
   "execution_count": 1,
   "metadata": {},
   "outputs": [
    {
     "name": "stdout",
     "output_type": "stream",
     "text": [
      "$?: 40\n",
      "ESP or USA?: esp\n",
      "The subtotal is 40.0$\n",
      "The tax is 3.6$\n",
      "The total is 43.6$\n"
     ]
    }
   ],
   "source": [
    "try:\n",
    "    amount=float(input(\"$?: \"))\n",
    "    country=input(\"ESP or USA?: \")\n",
    "    if country==\"ESP\" or \"esp\":\n",
    "        total=amount*1.09\n",
    "        tax=amount*0.09\n",
    "        print(f'The subtotal is {amount}$\\nThe tax is {round(tax,1)}$\\nThe total is {round(total,2)}$')\n",
    "    elif country==\"USA\" or \"usa\":\n",
    "        total_1=amount*1.05\n",
    "        tax_1=amount*0.05\n",
    "        print(f'The subtotal is {amount}$\\nThe tax is {round(tax_1,1)}$\\nThe total is {round(total_1,2)}$')\n",
    "\n",
    "except ValueError:\n",
    "    print(\"error\")"
   ]
  },
  {
   "cell_type": "code",
   "execution_count": 32,
   "metadata": {},
   "outputs": [
    {
     "name": "stdout",
     "output_type": "stream",
     "text": [
      "What is the order amount? 10\n",
      "What is the state? WI\n",
      "0.55\n",
      "10.55\n"
     ]
    }
   ],
   "source": [
    "#solution\n",
    "while True: \n",
    "    try: \n",
    "        a = float(input(\"What is the order amount? \"))\n",
    "        s = str(input(\"What is the state? \"))\n",
    "        break \n",
    "    except ValueError: \n",
    "        print(\"Enter a number >\")\n",
    "        \n",
    "States = {'WI' : .055, 'MN' : .07}\n",
    "tax = States[s]*a\n",
    "print(tax)\n",
    "print(tax+a)"
   ]
  },
  {
   "cell_type": "code",
   "execution_count": 33,
   "metadata": {},
   "outputs": [],
   "source": [
    "import getpass"
   ]
  },
  {
   "cell_type": "code",
   "execution_count": 74,
   "metadata": {},
   "outputs": [
    {
     "name": "stdout",
     "output_type": "stream",
     "text": [
      "username a, b or c? a\n",
      "What is the password? ········\n",
      "Welcome, Sir a:)\n"
     ]
    }
   ],
   "source": [
    "# 15\n",
    "Passwords={\"a\":\"hello\",\"b\":\"hell\",\"c\":\"hel\"}\n",
    "try:\n",
    "    x = input(\"username a, b or c? \")\n",
    "    y = getpass.getpass(\"What is the password? \")\n",
    "    if x==\"a\":\n",
    "        q=Passwords[\"a\"]\n",
    "        if y==q:\n",
    "            print(f'Welcome, Sir {x}:)')\n",
    "        else:\n",
    "            print(\"wrong password\")\n",
    "    elif x==\"b\":\n",
    "        w=Passwords[\"b\"]\n",
    "        if y==w:\n",
    "            print(f'Welcome, Sir {x} :)')\n",
    "        else:\n",
    "            print(\"wrong password\")\n",
    "    elif x==\"c\":\n",
    "        e=Passwords[\"c\"]\n",
    "        if y==e:\n",
    "            print(f'Welcome, Sir {x} :)')\n",
    "        else:\n",
    "            print(\"wrong password\")\n",
    "    else:\n",
    "        try:\n",
    "            x=1+x\n",
    "        except TypeError:\n",
    "            print(\"Invalid username\")\n",
    "except ValueError:\n",
    "    print(\"bye\")"
   ]
  },
  {
   "cell_type": "code",
   "execution_count": 4,
   "metadata": {},
   "outputs": [
    {
     "name": "stdout",
     "output_type": "stream",
     "text": [
      "What is your age? -1\n",
      "You are not legally able to drive\n"
     ]
    }
   ],
   "source": [
    "#16\n",
    "x=False\n",
    "while x==False:\n",
    "    try:\n",
    "        age=float(input(\"What is your age? \"))\n",
    "        if age >= 16:\n",
    "            print(\"You are legally able to drive\")\n",
    "            x=True\n",
    "        elif age < 16:\n",
    "            print(\"You are not legally able to drive\")\n",
    "            x=True\n",
    "    except ValueError:\n",
    "        print(\"Please, input a valid number\")\n",
    "        \n"
   ]
  },
  {
   "cell_type": "code",
   "execution_count": 13,
   "metadata": {},
   "outputs": [
    {
     "name": "stdout",
     "output_type": "stream",
     "text": [
      "Weight?: 60\n",
      "Alcohol consumed?: 1\n",
      "man or woman?: man\n",
      "Number of hours since last drink?1\n",
      "You entered the wrong numbers\n"
     ]
    }
   ],
   "source": [
    "#17\n",
    "w=float(input(\"Weight?: \"))\n",
    "A=float(input(\"Alcohol consumed?: \"))\n",
    "r=input(\"man or woman?: \")\n",
    "if r==\"man\":\n",
    "    r=float(0.73)\n",
    "elif r==\"woman\":\n",
    "    r=float(0.66)\n",
    "else:\n",
    "    print(\"Enter 'man' or 'woman'\")\n",
    "H=float(input(\"Number of hours since last drink?\"))\n",
    "BAC=(A*5.14/w*r)-0.15*H\n",
    "if BAC>0.08:\n",
    "    print(f'Your BAC is {round(BAC,2)}\\nIt is illegal to drive')\n",
    "elif BAC<=0.08 and BAC>0:\n",
    "    print(f'Your BAC is {round(BAC,2)}\\nIt is legal to drive')\n",
    "elif BAC<0:\n",
    "    print(\"You entered the wrong numbers\")\n",
    "    "
   ]
  },
  {
   "cell_type": "code",
   "execution_count": 33,
   "metadata": {},
   "outputs": [
    {
     "name": "stdout",
     "output_type": "stream",
     "text": [
      "Press C to convert from Fahrenheit to Celsius \n",
      "Press F to convert from Celsius to Fahrenheitf\n",
      "Please enter the temperature in Fahrenheit100\n",
      "The temperatur in Celsius is 38\n"
     ]
    },
    {
     "ename": "KeyboardInterrupt",
     "evalue": "",
     "output_type": "error",
     "traceback": [
      "\u001b[0;31m---------------------------------------------------------------------------\u001b[0m",
      "\u001b[0;31mKeyboardInterrupt\u001b[0m                         Traceback (most recent call last)",
      "\u001b[0;32m/opt/anaconda3/lib/python3.7/site-packages/ipykernel/kernelbase.py\u001b[0m in \u001b[0;36m_input_request\u001b[0;34m(self, prompt, ident, parent, password)\u001b[0m\n\u001b[1;32m    884\u001b[0m             \u001b[0;32mtry\u001b[0m\u001b[0;34m:\u001b[0m\u001b[0;34m\u001b[0m\u001b[0;34m\u001b[0m\u001b[0m\n\u001b[0;32m--> 885\u001b[0;31m                 \u001b[0mident\u001b[0m\u001b[0;34m,\u001b[0m \u001b[0mreply\u001b[0m \u001b[0;34m=\u001b[0m \u001b[0mself\u001b[0m\u001b[0;34m.\u001b[0m\u001b[0msession\u001b[0m\u001b[0;34m.\u001b[0m\u001b[0mrecv\u001b[0m\u001b[0;34m(\u001b[0m\u001b[0mself\u001b[0m\u001b[0;34m.\u001b[0m\u001b[0mstdin_socket\u001b[0m\u001b[0;34m,\u001b[0m \u001b[0;36m0\u001b[0m\u001b[0;34m)\u001b[0m\u001b[0;34m\u001b[0m\u001b[0;34m\u001b[0m\u001b[0m\n\u001b[0m\u001b[1;32m    886\u001b[0m             \u001b[0;32mexcept\u001b[0m \u001b[0mException\u001b[0m\u001b[0;34m:\u001b[0m\u001b[0;34m\u001b[0m\u001b[0;34m\u001b[0m\u001b[0m\n",
      "\u001b[0;32m/opt/anaconda3/lib/python3.7/site-packages/jupyter_client/session.py\u001b[0m in \u001b[0;36mrecv\u001b[0;34m(self, socket, mode, content, copy)\u001b[0m\n\u001b[1;32m    802\u001b[0m         \u001b[0;32mtry\u001b[0m\u001b[0;34m:\u001b[0m\u001b[0;34m\u001b[0m\u001b[0;34m\u001b[0m\u001b[0m\n\u001b[0;32m--> 803\u001b[0;31m             \u001b[0mmsg_list\u001b[0m \u001b[0;34m=\u001b[0m \u001b[0msocket\u001b[0m\u001b[0;34m.\u001b[0m\u001b[0mrecv_multipart\u001b[0m\u001b[0;34m(\u001b[0m\u001b[0mmode\u001b[0m\u001b[0;34m,\u001b[0m \u001b[0mcopy\u001b[0m\u001b[0;34m=\u001b[0m\u001b[0mcopy\u001b[0m\u001b[0;34m)\u001b[0m\u001b[0;34m\u001b[0m\u001b[0;34m\u001b[0m\u001b[0m\n\u001b[0m\u001b[1;32m    804\u001b[0m         \u001b[0;32mexcept\u001b[0m \u001b[0mzmq\u001b[0m\u001b[0;34m.\u001b[0m\u001b[0mZMQError\u001b[0m \u001b[0;32mas\u001b[0m \u001b[0me\u001b[0m\u001b[0;34m:\u001b[0m\u001b[0;34m\u001b[0m\u001b[0;34m\u001b[0m\u001b[0m\n",
      "\u001b[0;32m/opt/anaconda3/lib/python3.7/site-packages/zmq/sugar/socket.py\u001b[0m in \u001b[0;36mrecv_multipart\u001b[0;34m(self, flags, copy, track)\u001b[0m\n\u001b[1;32m    474\u001b[0m         \"\"\"\n\u001b[0;32m--> 475\u001b[0;31m         \u001b[0mparts\u001b[0m \u001b[0;34m=\u001b[0m \u001b[0;34m[\u001b[0m\u001b[0mself\u001b[0m\u001b[0;34m.\u001b[0m\u001b[0mrecv\u001b[0m\u001b[0;34m(\u001b[0m\u001b[0mflags\u001b[0m\u001b[0;34m,\u001b[0m \u001b[0mcopy\u001b[0m\u001b[0;34m=\u001b[0m\u001b[0mcopy\u001b[0m\u001b[0;34m,\u001b[0m \u001b[0mtrack\u001b[0m\u001b[0;34m=\u001b[0m\u001b[0mtrack\u001b[0m\u001b[0;34m)\u001b[0m\u001b[0;34m]\u001b[0m\u001b[0;34m\u001b[0m\u001b[0;34m\u001b[0m\u001b[0m\n\u001b[0m\u001b[1;32m    476\u001b[0m         \u001b[0;31m# have first part already, only loop while more to receive\u001b[0m\u001b[0;34m\u001b[0m\u001b[0;34m\u001b[0m\u001b[0;34m\u001b[0m\u001b[0m\n",
      "\u001b[0;32mzmq/backend/cython/socket.pyx\u001b[0m in \u001b[0;36mzmq.backend.cython.socket.Socket.recv\u001b[0;34m()\u001b[0m\n",
      "\u001b[0;32mzmq/backend/cython/socket.pyx\u001b[0m in \u001b[0;36mzmq.backend.cython.socket.Socket.recv\u001b[0;34m()\u001b[0m\n",
      "\u001b[0;32mzmq/backend/cython/socket.pyx\u001b[0m in \u001b[0;36mzmq.backend.cython.socket._recv_copy\u001b[0;34m()\u001b[0m\n",
      "\u001b[0;32m/opt/anaconda3/lib/python3.7/site-packages/zmq/backend/cython/checkrc.pxd\u001b[0m in \u001b[0;36mzmq.backend.cython.checkrc._check_rc\u001b[0;34m()\u001b[0m\n",
      "\u001b[0;31mKeyboardInterrupt\u001b[0m: ",
      "\nDuring handling of the above exception, another exception occurred:\n",
      "\u001b[0;31mKeyboardInterrupt\u001b[0m                         Traceback (most recent call last)",
      "\u001b[0;32m<ipython-input-33-6ef81ec62c6a>\u001b[0m in \u001b[0;36m<module>\u001b[0;34m\u001b[0m\n\u001b[1;32m      2\u001b[0m \u001b[0mx\u001b[0m\u001b[0;34m=\u001b[0m\u001b[0;32mFalse\u001b[0m\u001b[0;34m\u001b[0m\u001b[0;34m\u001b[0m\u001b[0m\n\u001b[1;32m      3\u001b[0m \u001b[0;32mwhile\u001b[0m \u001b[0mx\u001b[0m\u001b[0;34m==\u001b[0m\u001b[0;32mFalse\u001b[0m\u001b[0;34m:\u001b[0m\u001b[0;34m\u001b[0m\u001b[0;34m\u001b[0m\u001b[0m\n\u001b[0;32m----> 4\u001b[0;31m     \u001b[0mconvert\u001b[0m\u001b[0;34m=\u001b[0m\u001b[0minput\u001b[0m\u001b[0;34m(\u001b[0m\u001b[0;34m\"Press C to convert from Fahrenheit to Celsius \\nPress F to convert from Celsius to Fahrenheit\"\u001b[0m\u001b[0;34m)\u001b[0m\u001b[0;34m\u001b[0m\u001b[0;34m\u001b[0m\u001b[0m\n\u001b[0m\u001b[1;32m      5\u001b[0m     \u001b[0;32mif\u001b[0m \u001b[0mconvert\u001b[0m\u001b[0;34m==\u001b[0m\u001b[0;34m\"c\"\u001b[0m \u001b[0;32mor\u001b[0m \u001b[0;34m\"C\"\u001b[0m\u001b[0;34m:\u001b[0m\u001b[0;34m\u001b[0m\u001b[0;34m\u001b[0m\u001b[0m\n\u001b[1;32m      6\u001b[0m         \u001b[0mc\u001b[0m\u001b[0;34m=\u001b[0m\u001b[0mfloat\u001b[0m\u001b[0;34m(\u001b[0m\u001b[0minput\u001b[0m\u001b[0;34m(\u001b[0m\u001b[0;34m\"Please enter the temperature in Fahrenheit\"\u001b[0m\u001b[0;34m)\u001b[0m\u001b[0;34m)\u001b[0m\u001b[0;34m\u001b[0m\u001b[0;34m\u001b[0m\u001b[0m\n",
      "\u001b[0;32m/opt/anaconda3/lib/python3.7/site-packages/ipykernel/kernelbase.py\u001b[0m in \u001b[0;36mraw_input\u001b[0;34m(self, prompt)\u001b[0m\n\u001b[1;32m    858\u001b[0m             \u001b[0mself\u001b[0m\u001b[0;34m.\u001b[0m\u001b[0m_parent_ident\u001b[0m\u001b[0;34m,\u001b[0m\u001b[0;34m\u001b[0m\u001b[0;34m\u001b[0m\u001b[0m\n\u001b[1;32m    859\u001b[0m             \u001b[0mself\u001b[0m\u001b[0;34m.\u001b[0m\u001b[0m_parent_header\u001b[0m\u001b[0;34m,\u001b[0m\u001b[0;34m\u001b[0m\u001b[0;34m\u001b[0m\u001b[0m\n\u001b[0;32m--> 860\u001b[0;31m             \u001b[0mpassword\u001b[0m\u001b[0;34m=\u001b[0m\u001b[0;32mFalse\u001b[0m\u001b[0;34m,\u001b[0m\u001b[0;34m\u001b[0m\u001b[0;34m\u001b[0m\u001b[0m\n\u001b[0m\u001b[1;32m    861\u001b[0m         )\n\u001b[1;32m    862\u001b[0m \u001b[0;34m\u001b[0m\u001b[0m\n",
      "\u001b[0;32m/opt/anaconda3/lib/python3.7/site-packages/ipykernel/kernelbase.py\u001b[0m in \u001b[0;36m_input_request\u001b[0;34m(self, prompt, ident, parent, password)\u001b[0m\n\u001b[1;32m    888\u001b[0m             \u001b[0;32mexcept\u001b[0m \u001b[0mKeyboardInterrupt\u001b[0m\u001b[0;34m:\u001b[0m\u001b[0;34m\u001b[0m\u001b[0;34m\u001b[0m\u001b[0m\n\u001b[1;32m    889\u001b[0m                 \u001b[0;31m# re-raise KeyboardInterrupt, to truncate traceback\u001b[0m\u001b[0;34m\u001b[0m\u001b[0;34m\u001b[0m\u001b[0;34m\u001b[0m\u001b[0m\n\u001b[0;32m--> 890\u001b[0;31m                 \u001b[0;32mraise\u001b[0m \u001b[0mKeyboardInterrupt\u001b[0m\u001b[0;34m\u001b[0m\u001b[0;34m\u001b[0m\u001b[0m\n\u001b[0m\u001b[1;32m    891\u001b[0m             \u001b[0;32melse\u001b[0m\u001b[0;34m:\u001b[0m\u001b[0;34m\u001b[0m\u001b[0;34m\u001b[0m\u001b[0m\n\u001b[1;32m    892\u001b[0m                 \u001b[0;32mbreak\u001b[0m\u001b[0;34m\u001b[0m\u001b[0;34m\u001b[0m\u001b[0m\n",
      "\u001b[0;31mKeyboardInterrupt\u001b[0m: "
     ]
    }
   ],
   "source": [
    "#18\n",
    "x=False\n",
    "while x==False:\n",
    "    convert=input(\"Press C to convert from Fahrenheit to Celsius \\nPress F to convert from Celsius to Fahrenheit\")\n",
    "    if convert==\"c\" or \"C\":\n",
    "        c=float(input(\"Please enter the temperature in Fahrenheit\"))\n",
    "        conversion=(c-32)*5/9\n",
    "        print(f'The temperatur in Celsius is {int(round(conversion,0))}')\n",
    "    elif convert==\"f\" or \"F\":\n",
    "        f=float(input(\"Please enter the temperature in Celsius\"))\n",
    "        conversion_1=(f*9/5)+32\n",
    "        print(f'The temperatur in Fahrenheit is {int(round(conversion_1,0))}')\n",
    "    else:\n",
    "        print(\"Please enter correct inputs\")"
   ]
  },
  {
   "cell_type": "code",
   "execution_count": 52,
   "metadata": {},
   "outputs": [
    {
     "name": "stdout",
     "output_type": "stream",
     "text": [
      "Which month?: 4\n",
      "The name of the month is April\n"
     ]
    }
   ],
   "source": [
    "#21\n",
    "months={1:\"January\",2:\"February\",3:\"March\",4:\"April\",5:\"May\",6:\"June\"}\n",
    "\n",
    "m=int(input(\"Which month?: \"))\n",
    "print(f'The name of the month is {months.get(m)}')"
   ]
  },
  {
   "cell_type": "code",
   "execution_count": 59,
   "metadata": {},
   "outputs": [
    {
     "name": "stdout",
     "output_type": "stream",
     "text": [
      "Enter first number:3.6\n",
      "Enter second number:1\n",
      "Enter third number:2\n",
      "4 is the largest\n"
     ]
    }
   ],
   "source": [
    "#22\n",
    "a=float(input(\"Enter first number:\"))\n",
    "b=float(input(\"Enter second number:\"))\n",
    "c=float(input(\"Enter third number:\"))\n",
    "\n",
    "while True:\n",
    "    if a==b or a==c or b==c:\n",
    "        break\n",
    "    else:\n",
    "        if a>b and a>c:\n",
    "            print(f'{int(round(a,0))} is the largest')\n",
    "            break\n",
    "        elif b>a and b>c:\n",
    "            print(f'{int(round(b,0))} is the largest')\n",
    "            break\n",
    "        else:\n",
    "            print(f'{int(round(c,0))} is the largest')\n",
    "            break\n",
    "    "
   ]
  },
  {
   "cell_type": "code",
   "execution_count": 66,
   "metadata": {},
   "outputs": [
    {
     "name": "stdout",
     "output_type": "stream",
     "text": [
      "Enter first number:1\n",
      "Enter second number:2\n",
      "Enter third number:3\n",
      "3.0 is the largest\n",
      "Enter first number:1\n",
      "Enter second number:1\n",
      "Enter third number:1\n"
     ]
    }
   ],
   "source": [
    "while True:\n",
    "    a=float(input(\"Enter first number:\"))\n",
    "    b=float(input(\"Enter second number:\"))\n",
    "    c=float(input(\"Enter third number:\"))\n",
    "    if a==b or a==c or b==c:\n",
    "        break\n",
    "    else:\n",
    "        print(f'{max(a,b,c)} is the largest')\n",
    "        continue"
   ]
  },
  {
   "cell_type": "code",
   "execution_count": 4,
   "metadata": {},
   "outputs": [
    {
     "name": "stdout",
     "output_type": "stream",
     "text": [
      "Answer with 'yes' or don't and press enter\n",
      "Is the car silent?\n",
      "Does the car make a clicking noise?: \n",
      "Does the car crank?yes\n",
      "check spark\n"
     ]
    }
   ],
   "source": [
    "print(\"Answer with 'yes' or don't and press enter\")\n",
    "a=bool(input(\"Is the car silent?\"))\n",
    "if a==True:\n",
    "    b=bool(input(\"Are the batteries corroed?:\"))\n",
    "    if b==True:\n",
    "        print(\"Clean terminals\")\n",
    "    elif b==False:\n",
    "        print(\"Replace cables\")\n",
    "elif a==False:\n",
    "    c=bool(input(\"Does the car make a clicking noise?: \"))\n",
    "    if c==True:\n",
    "        print(\"Replace the battery\")\n",
    "    elif c==False:\n",
    "        d=bool(input(\"Does the car crank?\"))\n",
    "        if d==True:\n",
    "            print(\"check spark\")\n",
    "        elif d==False:\n",
    "            print(\"get out\")"
   ]
  },
  {
   "cell_type": "code",
   "execution_count": 6,
   "metadata": {},
   "outputs": [
    {
     "name": "stdout",
     "output_type": "stream",
     "text": [
      "Is the car silent when turned on?\n"
     ]
    },
    {
     "ename": "KeyboardInterrupt",
     "evalue": "",
     "output_type": "error",
     "traceback": [
      "\u001b[0;31m---------------------------------------------------------------------------\u001b[0m",
      "\u001b[0;31mKeyboardInterrupt\u001b[0m                         Traceback (most recent call last)",
      "\u001b[0;32m/opt/anaconda3/lib/python3.7/site-packages/ipykernel/kernelbase.py\u001b[0m in \u001b[0;36m_input_request\u001b[0;34m(self, prompt, ident, parent, password)\u001b[0m\n\u001b[1;32m    884\u001b[0m             \u001b[0;32mtry\u001b[0m\u001b[0;34m:\u001b[0m\u001b[0;34m\u001b[0m\u001b[0;34m\u001b[0m\u001b[0m\n\u001b[0;32m--> 885\u001b[0;31m                 \u001b[0mident\u001b[0m\u001b[0;34m,\u001b[0m \u001b[0mreply\u001b[0m \u001b[0;34m=\u001b[0m \u001b[0mself\u001b[0m\u001b[0;34m.\u001b[0m\u001b[0msession\u001b[0m\u001b[0;34m.\u001b[0m\u001b[0mrecv\u001b[0m\u001b[0;34m(\u001b[0m\u001b[0mself\u001b[0m\u001b[0;34m.\u001b[0m\u001b[0mstdin_socket\u001b[0m\u001b[0;34m,\u001b[0m \u001b[0;36m0\u001b[0m\u001b[0;34m)\u001b[0m\u001b[0;34m\u001b[0m\u001b[0;34m\u001b[0m\u001b[0m\n\u001b[0m\u001b[1;32m    886\u001b[0m             \u001b[0;32mexcept\u001b[0m \u001b[0mException\u001b[0m\u001b[0;34m:\u001b[0m\u001b[0;34m\u001b[0m\u001b[0;34m\u001b[0m\u001b[0m\n",
      "\u001b[0;32m/opt/anaconda3/lib/python3.7/site-packages/jupyter_client/session.py\u001b[0m in \u001b[0;36mrecv\u001b[0;34m(self, socket, mode, content, copy)\u001b[0m\n\u001b[1;32m    802\u001b[0m         \u001b[0;32mtry\u001b[0m\u001b[0;34m:\u001b[0m\u001b[0;34m\u001b[0m\u001b[0;34m\u001b[0m\u001b[0m\n\u001b[0;32m--> 803\u001b[0;31m             \u001b[0mmsg_list\u001b[0m \u001b[0;34m=\u001b[0m \u001b[0msocket\u001b[0m\u001b[0;34m.\u001b[0m\u001b[0mrecv_multipart\u001b[0m\u001b[0;34m(\u001b[0m\u001b[0mmode\u001b[0m\u001b[0;34m,\u001b[0m \u001b[0mcopy\u001b[0m\u001b[0;34m=\u001b[0m\u001b[0mcopy\u001b[0m\u001b[0;34m)\u001b[0m\u001b[0;34m\u001b[0m\u001b[0;34m\u001b[0m\u001b[0m\n\u001b[0m\u001b[1;32m    804\u001b[0m         \u001b[0;32mexcept\u001b[0m \u001b[0mzmq\u001b[0m\u001b[0;34m.\u001b[0m\u001b[0mZMQError\u001b[0m \u001b[0;32mas\u001b[0m \u001b[0me\u001b[0m\u001b[0;34m:\u001b[0m\u001b[0;34m\u001b[0m\u001b[0;34m\u001b[0m\u001b[0m\n",
      "\u001b[0;32m/opt/anaconda3/lib/python3.7/site-packages/zmq/sugar/socket.py\u001b[0m in \u001b[0;36mrecv_multipart\u001b[0;34m(self, flags, copy, track)\u001b[0m\n\u001b[1;32m    474\u001b[0m         \"\"\"\n\u001b[0;32m--> 475\u001b[0;31m         \u001b[0mparts\u001b[0m \u001b[0;34m=\u001b[0m \u001b[0;34m[\u001b[0m\u001b[0mself\u001b[0m\u001b[0;34m.\u001b[0m\u001b[0mrecv\u001b[0m\u001b[0;34m(\u001b[0m\u001b[0mflags\u001b[0m\u001b[0;34m,\u001b[0m \u001b[0mcopy\u001b[0m\u001b[0;34m=\u001b[0m\u001b[0mcopy\u001b[0m\u001b[0;34m,\u001b[0m \u001b[0mtrack\u001b[0m\u001b[0;34m=\u001b[0m\u001b[0mtrack\u001b[0m\u001b[0;34m)\u001b[0m\u001b[0;34m]\u001b[0m\u001b[0;34m\u001b[0m\u001b[0;34m\u001b[0m\u001b[0m\n\u001b[0m\u001b[1;32m    476\u001b[0m         \u001b[0;31m# have first part already, only loop while more to receive\u001b[0m\u001b[0;34m\u001b[0m\u001b[0;34m\u001b[0m\u001b[0;34m\u001b[0m\u001b[0m\n",
      "\u001b[0;32mzmq/backend/cython/socket.pyx\u001b[0m in \u001b[0;36mzmq.backend.cython.socket.Socket.recv\u001b[0;34m()\u001b[0m\n",
      "\u001b[0;32mzmq/backend/cython/socket.pyx\u001b[0m in \u001b[0;36mzmq.backend.cython.socket.Socket.recv\u001b[0;34m()\u001b[0m\n",
      "\u001b[0;32mzmq/backend/cython/socket.pyx\u001b[0m in \u001b[0;36mzmq.backend.cython.socket._recv_copy\u001b[0;34m()\u001b[0m\n",
      "\u001b[0;32m/opt/anaconda3/lib/python3.7/site-packages/zmq/backend/cython/checkrc.pxd\u001b[0m in \u001b[0;36mzmq.backend.cython.checkrc._check_rc\u001b[0;34m()\u001b[0m\n",
      "\u001b[0;31mKeyboardInterrupt\u001b[0m: ",
      "\nDuring handling of the above exception, another exception occurred:\n",
      "\u001b[0;31mKeyboardInterrupt\u001b[0m                         Traceback (most recent call last)",
      "\u001b[0;32m<ipython-input-6-cfd56ae90c93>\u001b[0m in \u001b[0;36m<module>\u001b[0;34m\u001b[0m\n\u001b[1;32m     19\u001b[0m \u001b[0mi\u001b[0m \u001b[0;34m=\u001b[0m \u001b[0;36m1\u001b[0m\u001b[0;34m\u001b[0m\u001b[0;34m\u001b[0m\u001b[0m\n\u001b[1;32m     20\u001b[0m \u001b[0;32mwhile\u001b[0m \u001b[0;32mTrue\u001b[0m\u001b[0;34m:\u001b[0m\u001b[0;34m\u001b[0m\u001b[0;34m\u001b[0m\u001b[0m\n\u001b[0;32m---> 21\u001b[0;31m     \u001b[0mx\u001b[0m \u001b[0;34m=\u001b[0m \u001b[0minput\u001b[0m\u001b[0;34m(\u001b[0m\u001b[0;34m'Y or N '\u001b[0m\u001b[0;34m)\u001b[0m\u001b[0;34m\u001b[0m\u001b[0;34m\u001b[0m\u001b[0m\n\u001b[0m\u001b[1;32m     22\u001b[0m     \u001b[0;32mif\u001b[0m \u001b[0mx\u001b[0m \u001b[0;34m==\u001b[0m \u001b[0;34m'Y'\u001b[0m\u001b[0;34m:\u001b[0m\u001b[0;34m\u001b[0m\u001b[0;34m\u001b[0m\u001b[0m\n\u001b[1;32m     23\u001b[0m         \u001b[0mprint\u001b[0m\u001b[0;34m(\u001b[0m\u001b[0mActions\u001b[0m\u001b[0;34m[\u001b[0m\u001b[0mSteps\u001b[0m\u001b[0;34m[\u001b[0m\u001b[0mi\u001b[0m\u001b[0;34m]\u001b[0m\u001b[0;34m]\u001b[0m\u001b[0;34m)\u001b[0m\u001b[0;34m\u001b[0m\u001b[0;34m\u001b[0m\u001b[0m\n",
      "\u001b[0;32m/opt/anaconda3/lib/python3.7/site-packages/ipykernel/kernelbase.py\u001b[0m in \u001b[0;36mraw_input\u001b[0;34m(self, prompt)\u001b[0m\n\u001b[1;32m    858\u001b[0m             \u001b[0mself\u001b[0m\u001b[0;34m.\u001b[0m\u001b[0m_parent_ident\u001b[0m\u001b[0;34m,\u001b[0m\u001b[0;34m\u001b[0m\u001b[0;34m\u001b[0m\u001b[0m\n\u001b[1;32m    859\u001b[0m             \u001b[0mself\u001b[0m\u001b[0;34m.\u001b[0m\u001b[0m_parent_header\u001b[0m\u001b[0;34m,\u001b[0m\u001b[0;34m\u001b[0m\u001b[0;34m\u001b[0m\u001b[0m\n\u001b[0;32m--> 860\u001b[0;31m             \u001b[0mpassword\u001b[0m\u001b[0;34m=\u001b[0m\u001b[0;32mFalse\u001b[0m\u001b[0;34m,\u001b[0m\u001b[0;34m\u001b[0m\u001b[0;34m\u001b[0m\u001b[0m\n\u001b[0m\u001b[1;32m    861\u001b[0m         )\n\u001b[1;32m    862\u001b[0m \u001b[0;34m\u001b[0m\u001b[0m\n",
      "\u001b[0;32m/opt/anaconda3/lib/python3.7/site-packages/ipykernel/kernelbase.py\u001b[0m in \u001b[0;36m_input_request\u001b[0;34m(self, prompt, ident, parent, password)\u001b[0m\n\u001b[1;32m    888\u001b[0m             \u001b[0;32mexcept\u001b[0m \u001b[0mKeyboardInterrupt\u001b[0m\u001b[0;34m:\u001b[0m\u001b[0;34m\u001b[0m\u001b[0;34m\u001b[0m\u001b[0m\n\u001b[1;32m    889\u001b[0m                 \u001b[0;31m# re-raise KeyboardInterrupt, to truncate traceback\u001b[0m\u001b[0;34m\u001b[0m\u001b[0;34m\u001b[0m\u001b[0;34m\u001b[0m\u001b[0m\n\u001b[0;32m--> 890\u001b[0;31m                 \u001b[0;32mraise\u001b[0m \u001b[0mKeyboardInterrupt\u001b[0m\u001b[0;34m\u001b[0m\u001b[0;34m\u001b[0m\u001b[0m\n\u001b[0m\u001b[1;32m    891\u001b[0m             \u001b[0;32melse\u001b[0m\u001b[0;34m:\u001b[0m\u001b[0;34m\u001b[0m\u001b[0;34m\u001b[0m\u001b[0m\n\u001b[1;32m    892\u001b[0m                 \u001b[0;32mbreak\u001b[0m\u001b[0;34m\u001b[0m\u001b[0;34m\u001b[0m\u001b[0m\n",
      "\u001b[0;31mKeyboardInterrupt\u001b[0m: "
     ]
    }
   ],
   "source": [
    "# 23\n",
    "Actions = {'1': 'Is the car silent when turned on?',\n",
    "         '2a': 'Are the Battery terminals corroded',\n",
    "         '2b': 'Does the car make a clicking noise',\n",
    "         '3a': 'Clean terminals',\n",
    "         '3b': 'Replace cables',\n",
    "         '3c': 'Replace battary',\n",
    "         '3d': 'Does car crack',\n",
    "         '4a': 'Check Spark plugs',\n",
    "         '4c': 'Does engine start',\n",
    "         '5a': 'Does your car have fuel',\n",
    "         '6a': 'Check chock',\n",
    "         '6b': 'Get it services'}\n",
    "\n",
    "Steps = ['1','2a','2b','3a','3b','3c','3d','5a','6a','6b']\n",
    "\n",
    "print(Actions['1'])\n",
    "\n",
    "i = 1\n",
    "while True:\n",
    "    x = input('Y or N ')\n",
    "    if x == 'Y': \n",
    "        print(Actions[Steps[i]])\n",
    "        i = i + 1\n",
    "    if x == 'N': \n",
    "        if i > 9:\n",
    "            break\n",
    "        \n",
    "        print(Actions[Steps[i+1]])\n",
    "        i = i + 2"
   ]
  },
  {
   "cell_type": "code",
   "execution_count": 4,
   "metadata": {},
   "outputs": [],
   "source": [
    "#chapter functions\n",
    "#24\n",
    "def anag_program():\n",
    "    print(\"Enter two strings and I'll tell you\\nif they are anagrams\")\n",
    "    s1=input(\"Enter first string: \")\n",
    "    s2=input(\"Enter the second string\")\n",
    "    if sorted(s1)==sorted(s2):\n",
    "        print(f'\"{s1}\" and \"{s2}\" are anagrams')\n",
    "    elif sorted(s1)!=sorted(s2):\n",
    "        print(f'\"{s1}\" and \"{s2}\" are not anagrams')\n",
    "    else:\n",
    "        raise ValueError"
   ]
  },
  {
   "cell_type": "code",
   "execution_count": 8,
   "metadata": {},
   "outputs": [
    {
     "name": "stdout",
     "output_type": "stream",
     "text": [
      "Enter two strings and I'll tell you\n",
      "if they are anagrams\n",
      "Enter first string: 1\n",
      "Enter the second string2\n",
      "\"1\" and \"2\" are not anagrams\n"
     ]
    }
   ],
   "source": [
    "anag_program()"
   ]
  },
  {
   "cell_type": "code",
   "execution_count": 40,
   "metadata": {},
   "outputs": [],
   "source": [
    "def password_validator(password):\n",
    "    if len(password)<8:\n",
    "        x=False\n",
    "        while x==False:\n",
    "            number=\"1234567890\"\n",
    "            for i in password:\n",
    "                if i in number:\n",
    "                    x=True\n",
    "                    print(\"Your password is very weak\")\n",
    "                else:\n",
    "                    print(\"Your password is weak\")\n",
    "    elif len(password)>=8:\n",
    "        x=False\n",
    "        while x==False:\n",
    "            symbol=\"!.,¡\"\n",
    "            letter=\"qwertyuiop\"\n",
    "            for i in password:\n",
    "                if i in symbol==True:\n",
    "                    print(\"Your password is very strong\")\n",
    "                    x=True\n",
    "                elif i in letter:\n",
    "                    print(\"Your password is normal\")\n",
    "                    x=True    "
   ]
  },
  {
   "cell_type": "code",
   "execution_count": 42,
   "metadata": {},
   "outputs": [
    {
     "name": "stdout",
     "output_type": "stream",
     "text": [
      "Your password is weak\n",
      "Your password is weak\n",
      "Your password is very weak\n",
      "Your password is very weak\n",
      "Your password is very weak\n"
     ]
    }
   ],
   "source": [
    "password_validator(\"!q119\")"
   ]
  },
  {
   "cell_type": "code",
   "execution_count": 27,
   "metadata": {},
   "outputs": [],
   "source": [
    "def password_validator(password):\n",
    "    try:\n",
    "        if len(password)<8:\n",
    "            number=\"1234567890\"\n",
    "            for i in password:\n",
    "                if i in number == True:\n",
    "                    x=1\n",
    "                else:\n",
    "                    x=0\n",
    "    finally:\n",
    "        final={0:\"weak\",1:\"very weak\"}\n",
    "        print(f'Your password is {final.get(x)}')\n",
    "        x=0\n",
    "        "
   ]
  },
  {
   "cell_type": "code",
   "execution_count": 30,
   "metadata": {},
   "outputs": [
    {
     "name": "stdout",
     "output_type": "stream",
     "text": [
      "Your password is weak\n"
     ]
    }
   ],
   "source": [
    "password_validator(\"12\")"
   ]
  },
  {
   "cell_type": "code",
   "execution_count": 8,
   "metadata": {},
   "outputs": [
    {
     "name": "stdout",
     "output_type": "stream",
     "text": [
      "1\n",
      "2\n",
      "3\n",
      "4\n",
      "5\n"
     ]
    }
   ],
   "source": [
    "number=[1,2,3,4,5,6,7,8,9,0]\n",
    "x=0\n",
    "for number in \"1abc1\":\n",
    "    x=x+1\n",
    "    print(x)\n",
    "    "
   ]
  },
  {
   "cell_type": "code",
   "execution_count": 13,
   "metadata": {},
   "outputs": [
    {
     "data": {
      "text/plain": [
       "0.0"
      ]
     },
     "execution_count": 13,
     "metadata": {},
     "output_type": "execute_result"
    }
   ],
   "source": [
    "import math\n",
    "math.log(1,10)"
   ]
  },
  {
   "cell_type": "code",
   "execution_count": 34,
   "metadata": {},
   "outputs": [],
   "source": [
    "#26\n",
    "def payoff():\n",
    "    APR=float(input(\"APR?:\"))\n",
    "    i=APR/365\n",
    "    b=float(input(\"balance?: \"))\n",
    "    p=float(input(\"monthly payment you can do?: \"))\n",
    "    n=-1/30*math.log(1+b/p*(1-(1+i)**30))/math.log(1+i)\n",
    "    print(f'It will take you {n} months to pay off this card')"
   ]
  },
  {
   "cell_type": "code",
   "execution_count": 38,
   "metadata": {},
   "outputs": [],
   "source": [
    "def payoff(APR,b,p):\n",
    "    i=APR/365\n",
    "    n=-1/30*math.log(1+b/p*(1-(1+i)**30))/math.log(1+i)\n",
    "    print(f'It will take you {n} months to pay off this card')"
   ]
  },
  {
   "cell_type": "code",
   "execution_count": 39,
   "metadata": {},
   "outputs": [
    {
     "name": "stdout",
     "output_type": "stream",
     "text": [
      "It will take you 69.38218057582237 months to pay off this card\n"
     ]
    }
   ],
   "source": [
    "payoff(0.12,5000,100)"
   ]
  },
  {
   "cell_type": "code",
   "execution_count": 43,
   "metadata": {},
   "outputs": [
    {
     "name": "stdout",
     "output_type": "stream",
     "text": [
      "Please enter your first name? j\n",
      "Please enter your last name? m\n",
      "Please enter your zip code? j\n",
      "Please enter your ID? j\n",
      "j is not a name. It is too short.\n",
      "m is not a name. It is too short. \n",
      "The Zip is not a numeric number\n"
     ]
    },
    {
     "ename": "IndexError",
     "evalue": "string index out of range",
     "output_type": "error",
     "traceback": [
      "\u001b[0;31m---------------------------------------------------------------------------\u001b[0m",
      "\u001b[0;31mIndexError\u001b[0m                                Traceback (most recent call last)",
      "\u001b[0;32m<ipython-input-43-73adef48896e>\u001b[0m in \u001b[0;36m<module>\u001b[0;34m\u001b[0m\n\u001b[1;32m     55\u001b[0m \u001b[0;32mif\u001b[0m \u001b[0mLnames\u001b[0m\u001b[0;34m(\u001b[0m\u001b[0mLast\u001b[0m\u001b[0;34m)\u001b[0m \u001b[0;34m!=\u001b[0m \u001b[0;32mTrue\u001b[0m\u001b[0;34m:\u001b[0m \u001b[0mprint\u001b[0m\u001b[0;34m(\u001b[0m\u001b[0;34mf\"{Last} is not a name. It is too short. \"\u001b[0m\u001b[0;34m)\u001b[0m\u001b[0;34m\u001b[0m\u001b[0;34m\u001b[0m\u001b[0m\n\u001b[1;32m     56\u001b[0m \u001b[0;32mif\u001b[0m \u001b[0mZIP\u001b[0m\u001b[0;34m(\u001b[0m\u001b[0mZip\u001b[0m\u001b[0;34m)\u001b[0m \u001b[0;34m!=\u001b[0m \u001b[0;32mTrue\u001b[0m\u001b[0;34m:\u001b[0m \u001b[0mprint\u001b[0m\u001b[0;34m(\u001b[0m\u001b[0;34m\"The Zip is not a numeric number\"\u001b[0m\u001b[0;34m)\u001b[0m\u001b[0;34m\u001b[0m\u001b[0;34m\u001b[0m\u001b[0m\n\u001b[0;32m---> 57\u001b[0;31m \u001b[0;32mif\u001b[0m \u001b[0mEmpID\u001b[0m\u001b[0;34m(\u001b[0m\u001b[0mID\u001b[0m\u001b[0;34m)\u001b[0m \u001b[0;34m!=\u001b[0m \u001b[0;32mTrue\u001b[0m\u001b[0;34m:\u001b[0m \u001b[0mprint\u001b[0m\u001b[0;34m(\u001b[0m\u001b[0;34mf\"{ID} is not a valid ID\"\u001b[0m\u001b[0;34m)\u001b[0m\u001b[0;34m\u001b[0m\u001b[0;34m\u001b[0m\u001b[0m\n\u001b[0m",
      "\u001b[0;32m<ipython-input-43-73adef48896e>\u001b[0m in \u001b[0;36mEmpID\u001b[0;34m(ID)\u001b[0m\n\u001b[1;32m     44\u001b[0m \u001b[0;34m\u001b[0m\u001b[0m\n\u001b[1;32m     45\u001b[0m \u001b[0;32mdef\u001b[0m \u001b[0mEmpID\u001b[0m\u001b[0;34m(\u001b[0m\u001b[0mID\u001b[0m\u001b[0;34m)\u001b[0m\u001b[0;34m:\u001b[0m\u001b[0;34m\u001b[0m\u001b[0;34m\u001b[0m\u001b[0m\n\u001b[0;32m---> 46\u001b[0;31m     \u001b[0;32mif\u001b[0m \u001b[0misAlph\u001b[0m\u001b[0;34m(\u001b[0m\u001b[0mID\u001b[0m\u001b[0;34m[\u001b[0m\u001b[0;36m0\u001b[0m\u001b[0;34m:\u001b[0m\u001b[0;36m2\u001b[0m\u001b[0;34m]\u001b[0m\u001b[0;34m)\u001b[0m \u001b[0;32mand\u001b[0m \u001b[0mID\u001b[0m\u001b[0;34m[\u001b[0m\u001b[0;36m2\u001b[0m\u001b[0;34m]\u001b[0m \u001b[0;34m==\u001b[0m \u001b[0;34m'-'\u001b[0m \u001b[0;32mand\u001b[0m \u001b[0misNum\u001b[0m\u001b[0;34m(\u001b[0m\u001b[0mID\u001b[0m\u001b[0;34m[\u001b[0m\u001b[0;36m3\u001b[0m\u001b[0;34m:\u001b[0m\u001b[0;36m5\u001b[0m\u001b[0;34m]\u001b[0m\u001b[0;34m)\u001b[0m\u001b[0;34m:\u001b[0m\u001b[0;34m\u001b[0m\u001b[0;34m\u001b[0m\u001b[0m\n\u001b[0m\u001b[1;32m     47\u001b[0m         \u001b[0;32mreturn\u001b[0m \u001b[0;32mTrue\u001b[0m\u001b[0;34m\u001b[0m\u001b[0;34m\u001b[0m\u001b[0m\n\u001b[1;32m     48\u001b[0m \u001b[0;34m\u001b[0m\u001b[0m\n",
      "\u001b[0;31mIndexError\u001b[0m: string index out of range"
     ]
    }
   ],
   "source": [
    "#27\n",
    "\n",
    "def isSymbol(name): \n",
    "    x = 0 \n",
    "    symbol = \"~`!@#$%^&*()_-+={}[]:>;',</?*-+\"\n",
    "    for i in name:\n",
    "        if i in symbol:\n",
    "           x += 1\n",
    "    if x > 0: return True\n",
    "    if x == 0: return False \n",
    "    \n",
    "def isNum(name):\n",
    "    x = 0\n",
    "    symbol = \"1234567890\"\n",
    "    for i in name:\n",
    "        if i in symbol:\n",
    "           x += 1\n",
    "    if x > 0: return True\n",
    "    if x == 0: return False \n",
    "    \n",
    "def isAlph(name):\n",
    "    x = 0\n",
    "    symbol = \"qwertyuiopasdfghjklzxcvbnmQWERTYUIOPASDFGHJKLZXCVBNM\"\n",
    "    for i in name:\n",
    "        if i in symbol:\n",
    "           x += 1\n",
    "    if x > 0: return True\n",
    "    if x == 0: return False \n",
    "    \n",
    "    \n",
    "def Fnames(First): \n",
    "    BF = isAlph(First)\n",
    "    if len(First) > 1 and BF: \n",
    "        return True \n",
    "\n",
    "def Lnames(Last): \n",
    "    BL = isAlph(Last)\n",
    "    if len(Last) > 1 and BL: \n",
    "        return True \n",
    "       \n",
    "def ZIP(Zip):\n",
    "    if isNum(Zip):\n",
    "        return True \n",
    "\n",
    "def EmpID(ID):\n",
    "    if isAlph(ID[0:2]) and ID[2] == '-' and isNum(ID[3:5]):\n",
    "        return True \n",
    "\n",
    "First = input(\"Please enter your first name? \")\n",
    "Last = input(\"Please enter your last name? \")\n",
    "Zip = input(\"Please enter your zip code? \")\n",
    "ID = input(\"Please enter your ID? \")\n",
    "\n",
    "if Fnames(First) != True: print(f\"{First} is not a name. It is too short.\")\n",
    "if Lnames(Last) != True: print(f\"{Last} is not a name. It is too short. \")\n",
    "if ZIP(Zip) != True: print(\"The Zip is not a numeric number\")\n",
    "if EmpID(ID) != True: print(f\"{ID} is not a valid ID\")"
   ]
  },
  {
   "cell_type": "code",
   "execution_count": 36,
   "metadata": {},
   "outputs": [],
   "source": [
    "#27:\n",
    "def validation():\n",
    "    f_name=input(\"Enter first name\")\n",
    "    s_name=input(\"Enter second name\")\n",
    "    if len(f_name)>2 and len(s_name)>2:\n",
    "        try:\n",
    "            float(input(\"ZIP?\"))\n",
    "        except ValueError:\n",
    "            print(\"Invalid ZIP\")\n",
    "        finally:\n",
    "            q=(input(\"ID\"))\n",
    "            if q[0:2].isalpha()==True and q[2]==\"-\" and q[3:].isalnum()==True:\n",
    "                print(\"There are no errors\")\n",
    "            else:\n",
    "                print(\"There are errors\")\n",
    "    else:\n",
    "        print(\"First and second numbers must be >2\")\n",
    "                       \n",
    "                   \n",
    "            \n",
    "            "
   ]
  },
  {
   "cell_type": "code",
   "execution_count": 1,
   "metadata": {},
   "outputs": [],
   "source": [
    "#27:\n",
    "def validation():\n",
    "    f_name=input(\"Enter first name\")\n",
    "    s_name=input(\"Enter second name\")\n",
    "    if len(f_name)>2 and len(s_name)>2:\n",
    "        try:\n",
    "            float(input(\"ZIP?\"))\n",
    "            q=(input(\"ID\"))\n",
    "            if q[0:2].isalpha()==True and q[2]==\"-\" and q[3:].isalnum()==True:\n",
    "                print(\"There are no errors\")\n",
    "            else:\n",
    "                print(\"There are errors\")\n",
    "        except ValueError:\n",
    "            print(\"Invalid ZIP\")\n",
    "    else:\n",
    "        print(\"First and second numbers must be >2\")"
   ]
  },
  {
   "cell_type": "code",
   "execution_count": 3,
   "metadata": {},
   "outputs": [
    {
     "name": "stdout",
     "output_type": "stream",
     "text": [
      "Enter first namejuan\n",
      "Enter second namepalomo\n",
      "ZIP?1234\n",
      "IDaa-49222\n",
      "There are no errors\n"
     ]
    }
   ],
   "source": [
    "validation()"
   ]
  },
  {
   "cell_type": "code",
   "execution_count": 16,
   "metadata": {},
   "outputs": [
    {
     "name": "stdout",
     "output_type": "stream",
     "text": [
      "Enter a number  a\n",
      "Please enter a number\n",
      "Enter a number  a\n",
      "Please enter a number\n",
      "Enter a number  a\n",
      "Please enter a number\n",
      "Enter a number  b\n",
      "Please enter a number\n",
      "Enter a number  1\n",
      "Enter a number  2\n",
      "Enter a number  3\n",
      "Enter a number  4\n",
      "Enter a number  5\n",
      "The total is 15.0\n"
     ]
    }
   ],
   "source": [
    "#28\n",
    "i=0\n",
    "q=[]\n",
    "while i<5:\n",
    "    try:\n",
    "        one=float(input(\"Enter a number  \"))\n",
    "        q.append(one)\n",
    "        i+=1\n",
    "        if i==5:\n",
    "            print(f'The total is {sum(q[:])}')\n",
    "    except ValueError:\n",
    "        print(\"Please enter a number\")"
   ]
  },
  {
   "cell_type": "code",
   "execution_count": 28,
   "metadata": {},
   "outputs": [],
   "source": [
    "#29\n",
    "def calc_72():\n",
    "    while True:\n",
    "        try:\n",
    "            r=float(input(\"What is the rate of return?  \"))\n",
    "            years=72/r\n",
    "            print(f'It will take {round(years,1)} years to double\\nyour initial investment')\n",
    "            break\n",
    "        except (ValueError, ZeroDivisionError):\n",
    "            print(\"Sorry, that is not a valid input\")"
   ]
  },
  {
   "cell_type": "code",
   "execution_count": 30,
   "metadata": {},
   "outputs": [
    {
     "name": "stdout",
     "output_type": "stream",
     "text": [
      "What is the rate of return?  33\n",
      "It will take 2.2 years to double\n",
      "your initial investment\n"
     ]
    }
   ],
   "source": [
    "calc_72()"
   ]
  },
  {
   "cell_type": "code",
   "execution_count": 1,
   "metadata": {},
   "outputs": [
    {
     "name": "stdout",
     "output_type": "stream",
     "text": [
      "[0. 0. 0. 0. 0. 0. 0. 0. 0. 0. 0. 0. 0.]\n",
      "[ 0.  1.  2.  3.  4.  5.  6.  7.  8.  9. 10. 11. 12.]\n",
      "[ 0.  2.  4.  6.  8. 10. 12. 14. 16. 18. 20. 22. 24.]\n",
      "[ 0.  3.  6.  9. 12. 15. 18. 21. 24. 27. 30. 33. 36.]\n",
      "[ 0.  4.  8. 12. 16. 20. 24. 28. 32. 36. 40. 44. 48.]\n",
      "[ 0.  5. 10. 15. 20. 25. 30. 35. 40. 45. 50. 55. 60.]\n",
      "[ 0.  6. 12. 18. 24. 30. 36. 42. 48. 54. 60. 66. 72.]\n",
      "[ 0.  7. 14. 21. 28. 35. 42. 49. 56. 63. 70. 77. 84.]\n",
      "[ 0.  8. 16. 24. 32. 40. 48. 56. 64. 72. 80. 88. 96.]\n",
      "[  0.   9.  18.  27.  36.  45.  54.  63.  72.  81.  90.  99. 108.]\n",
      "[  0.  10.  20.  30.  40.  50.  60.  70.  80.  90. 100. 110. 120.]\n",
      "[  0.  11.  22.  33.  44.  55.  66.  77.  88.  99. 110. 121. 132.]\n",
      "[  0.  12.  24.  36.  48.  60.  72.  84.  96. 108. 120. 132. 144.]\n"
     ]
    }
   ],
   "source": [
    "#30\n",
    "import numpy as np\n",
    "m=np.zeros((13,13))\n",
    "x=np.arange(0,13)\n",
    "for i in range(0,13):\n",
    "    m[i,:]=x*i\n",
    "    print(m[i,:])"
   ]
  },
  {
   "cell_type": "code",
   "execution_count": 1,
   "metadata": {},
   "outputs": [],
   "source": [
    "#31\n",
    "import prettytable\n",
    "def target_heart_rate():\n",
    "    while True:\n",
    "        try:\n",
    "            t = prettytable.PrettyTable(['Intensity', 'Rate'])\n",
    "            rHR=float(input(\"Resting pulse?  \"))\n",
    "            age=float(input(\"Age?  \"))\n",
    "            i=55\n",
    "            while i<100:\n",
    "                formulae=(((220-age)-rHR)*(i/100))+rHR\n",
    "                t.add_row([f'{i}%', f'{int(formulae)} bpm'])\n",
    "                i+=5\n",
    "            print(t)\n",
    "            break\n",
    "        except ValueError:\n",
    "            print(\"Please enter the data in numbers\")"
   ]
  },
  {
   "cell_type": "code",
   "execution_count": 30,
   "metadata": {},
   "outputs": [
    {
     "name": "stdout",
     "output_type": "stream",
     "text": [
      "Resting pulse?  a\n",
      "Please enter the data in numbers\n",
      "Resting pulse?  a\n",
      "Please enter the data in numbers\n",
      "Resting pulse?  65\n",
      "Age?  22\n",
      "+-----------+---------+\n",
      "| Intensity |   Rate  |\n",
      "+-----------+---------+\n",
      "|    55%    | 138 bpm |\n",
      "|    60%    | 144 bpm |\n",
      "|    65%    | 151 bpm |\n",
      "|    70%    | 158 bpm |\n",
      "|    75%    | 164 bpm |\n",
      "|    80%    | 171 bpm |\n",
      "|    85%    | 178 bpm |\n",
      "|    90%    | 184 bpm |\n",
      "|    95%    | 191 bpm |\n",
      "+-----------+---------+\n"
     ]
    }
   ],
   "source": [
    "target_heart_rate()"
   ]
  },
  {
   "cell_type": "code",
   "execution_count": 34,
   "metadata": {},
   "outputs": [],
   "source": [
    "#palindrome para noobs\n",
    "def isPalindrome1(s):\n",
    "    if len(s)<=1:\n",
    "        return True\n",
    "    else:\n",
    "        if s[0]==s[-1] and isPalindrome(s[1:-1]):\n",
    "            return True\n",
    "        else:\n",
    "            return False"
   ]
  },
  {
   "cell_type": "code",
   "execution_count": 35,
   "metadata": {},
   "outputs": [
    {
     "data": {
      "text/plain": [
       "False"
      ]
     },
     "execution_count": 35,
     "metadata": {},
     "output_type": "execute_result"
    }
   ],
   "source": [
    "isPalindrome(\"abcsjba\")"
   ]
  },
  {
   "cell_type": "code",
   "execution_count": 36,
   "metadata": {},
   "outputs": [],
   "source": [
    "#palindrome para pros\n",
    "def isPalindrome(s):\n",
    "    if len(s)<=1:\n",
    "        return True\n",
    "    else:\n",
    "        return s[0]==s[-1] and isPalindrome(s[1:-1])"
   ]
  },
  {
   "cell_type": "code",
   "execution_count": 37,
   "metadata": {},
   "outputs": [
    {
     "data": {
      "text/plain": [
       "True"
      ]
     },
     "execution_count": 37,
     "metadata": {},
     "output_type": "execute_result"
    }
   ],
   "source": [
    "isPalindrome(\"abcba\")"
   ]
  },
  {
   "cell_type": "code",
   "execution_count": 9,
   "metadata": {},
   "outputs": [
    {
     "data": {
      "text/plain": [
       "2"
      ]
     },
     "execution_count": 9,
     "metadata": {},
     "output_type": "execute_result"
    }
   ],
   "source": [
    "import random\n",
    "random.randint(1,2)"
   ]
  },
  {
   "cell_type": "code",
   "execution_count": 20,
   "metadata": {},
   "outputs": [
    {
     "name": "stdout",
     "output_type": "stream",
     "text": [
      "Let's play Guess the Number!\n",
      "Pick a difficulty level (1 or 2):2\n",
      "I have my number. What's your guess?100\n",
      "Too high! Guess again10\n",
      "Too low! Guess again50\n",
      "Too low! Guess again60\n",
      "Too low! Guess again70\n",
      "Too high! Guess again65\n",
      "Too high! Guess again64\n",
      "You got it in 7 guesses!\n",
      "Play again?\n"
     ]
    }
   ],
   "source": [
    "#05-05-20\n",
    "#32\n",
    "\n",
    "x=True\n",
    "while x==True:\n",
    "    play=int(input(\"Let's play Guess the Number!\\nPick a difficulty level (1 or 2):\"))\n",
    "    if play==1:\n",
    "        random_1=random.randint(1,10)\n",
    "        play_1=int(input(\"I have my number. What's your guess?\"))\n",
    "        if random_1==play_1:\n",
    "            print(\"You guessed it!\")\n",
    "        elif random_1!=play_1:\n",
    "            n=1\n",
    "            while True:\n",
    "                if random_1>play_1:\n",
    "                    play_1=int(input(\"Too low! Guess again\"))\n",
    "                    n+=1\n",
    "                elif random_1<play_1:\n",
    "                    play_1=int(input(\"Too high! Guess again\"))\n",
    "                    n+=1\n",
    "                elif random_1==play_1:\n",
    "                    print(f'You got it in {n} guesses!')\n",
    "                    break\n",
    "    elif play==2:\n",
    "        random_1=random.randint(1,100)\n",
    "        play_1=int(input(\"I have my number. What's your guess?\"))\n",
    "        if random_1==play_1:\n",
    "            print(\"You guessed it!\")\n",
    "        elif random_1!=play_1:\n",
    "            n=1\n",
    "            while True:\n",
    "                if random_1>play_1:\n",
    "                    play_1=int(input(\"Too low! Guess again\"))\n",
    "                    n+=1\n",
    "                elif random_1<play_1:\n",
    "                    play_1=int(input(\"Too high! Guess again\"))\n",
    "                    n+=1\n",
    "                elif random_1==play_1:\n",
    "                    print(f'You got it in {n} guesses!')\n",
    "                    break\n",
    "    finish=bool(input(\"Play again?\"))\n",
    "    if finish==False:\n",
    "        x=False\n"
   ]
  },
  {
   "cell_type": "code",
   "execution_count": 10,
   "metadata": {},
   "outputs": [],
   "source": [
    "#33\n",
    "def eight_ball():\n",
    "    answers=[\"Yes\",\"No\",\"Maybe\",\"Ask again later\"]\n",
    "    input(\"What's your question?  \")\n",
    "    print(random.choice(answers))"
   ]
  },
  {
   "cell_type": "code",
   "execution_count": 11,
   "metadata": {},
   "outputs": [
    {
     "name": "stdout",
     "output_type": "stream",
     "text": [
      "What's your question?  s&p up?\n",
      "No\n"
     ]
    }
   ],
   "source": [
    "eight_ball()"
   ]
  },
  {
   "cell_type": "code",
   "execution_count": 12,
   "metadata": {},
   "outputs": [
    {
     "name": "stdout",
     "output_type": "stream",
     "text": [
      "There are 0 employees:\n"
     ]
    },
    {
     "ename": "KeyboardInterrupt",
     "evalue": "",
     "output_type": "error",
     "traceback": [
      "\u001b[0;31m---------------------------------------------------------------------------\u001b[0m",
      "\u001b[0;31mKeyboardInterrupt\u001b[0m                         Traceback (most recent call last)",
      "\u001b[0;32m/opt/anaconda3/lib/python3.7/site-packages/ipykernel/kernelbase.py\u001b[0m in \u001b[0;36m_input_request\u001b[0;34m(self, prompt, ident, parent, password)\u001b[0m\n\u001b[1;32m    884\u001b[0m             \u001b[0;32mtry\u001b[0m\u001b[0;34m:\u001b[0m\u001b[0;34m\u001b[0m\u001b[0;34m\u001b[0m\u001b[0m\n\u001b[0;32m--> 885\u001b[0;31m                 \u001b[0mident\u001b[0m\u001b[0;34m,\u001b[0m \u001b[0mreply\u001b[0m \u001b[0;34m=\u001b[0m \u001b[0mself\u001b[0m\u001b[0;34m.\u001b[0m\u001b[0msession\u001b[0m\u001b[0;34m.\u001b[0m\u001b[0mrecv\u001b[0m\u001b[0;34m(\u001b[0m\u001b[0mself\u001b[0m\u001b[0;34m.\u001b[0m\u001b[0mstdin_socket\u001b[0m\u001b[0;34m,\u001b[0m \u001b[0;36m0\u001b[0m\u001b[0;34m)\u001b[0m\u001b[0;34m\u001b[0m\u001b[0;34m\u001b[0m\u001b[0m\n\u001b[0m\u001b[1;32m    886\u001b[0m             \u001b[0;32mexcept\u001b[0m \u001b[0mException\u001b[0m\u001b[0;34m:\u001b[0m\u001b[0;34m\u001b[0m\u001b[0;34m\u001b[0m\u001b[0m\n",
      "\u001b[0;32m/opt/anaconda3/lib/python3.7/site-packages/jupyter_client/session.py\u001b[0m in \u001b[0;36mrecv\u001b[0;34m(self, socket, mode, content, copy)\u001b[0m\n\u001b[1;32m    802\u001b[0m         \u001b[0;32mtry\u001b[0m\u001b[0;34m:\u001b[0m\u001b[0;34m\u001b[0m\u001b[0;34m\u001b[0m\u001b[0m\n\u001b[0;32m--> 803\u001b[0;31m             \u001b[0mmsg_list\u001b[0m \u001b[0;34m=\u001b[0m \u001b[0msocket\u001b[0m\u001b[0;34m.\u001b[0m\u001b[0mrecv_multipart\u001b[0m\u001b[0;34m(\u001b[0m\u001b[0mmode\u001b[0m\u001b[0;34m,\u001b[0m \u001b[0mcopy\u001b[0m\u001b[0;34m=\u001b[0m\u001b[0mcopy\u001b[0m\u001b[0;34m)\u001b[0m\u001b[0;34m\u001b[0m\u001b[0;34m\u001b[0m\u001b[0m\n\u001b[0m\u001b[1;32m    804\u001b[0m         \u001b[0;32mexcept\u001b[0m \u001b[0mzmq\u001b[0m\u001b[0;34m.\u001b[0m\u001b[0mZMQError\u001b[0m \u001b[0;32mas\u001b[0m \u001b[0me\u001b[0m\u001b[0;34m:\u001b[0m\u001b[0;34m\u001b[0m\u001b[0;34m\u001b[0m\u001b[0m\n",
      "\u001b[0;32m/opt/anaconda3/lib/python3.7/site-packages/zmq/sugar/socket.py\u001b[0m in \u001b[0;36mrecv_multipart\u001b[0;34m(self, flags, copy, track)\u001b[0m\n\u001b[1;32m    474\u001b[0m         \"\"\"\n\u001b[0;32m--> 475\u001b[0;31m         \u001b[0mparts\u001b[0m \u001b[0;34m=\u001b[0m \u001b[0;34m[\u001b[0m\u001b[0mself\u001b[0m\u001b[0;34m.\u001b[0m\u001b[0mrecv\u001b[0m\u001b[0;34m(\u001b[0m\u001b[0mflags\u001b[0m\u001b[0;34m,\u001b[0m \u001b[0mcopy\u001b[0m\u001b[0;34m=\u001b[0m\u001b[0mcopy\u001b[0m\u001b[0;34m,\u001b[0m \u001b[0mtrack\u001b[0m\u001b[0;34m=\u001b[0m\u001b[0mtrack\u001b[0m\u001b[0;34m)\u001b[0m\u001b[0;34m]\u001b[0m\u001b[0;34m\u001b[0m\u001b[0;34m\u001b[0m\u001b[0m\n\u001b[0m\u001b[1;32m    476\u001b[0m         \u001b[0;31m# have first part already, only loop while more to receive\u001b[0m\u001b[0;34m\u001b[0m\u001b[0;34m\u001b[0m\u001b[0;34m\u001b[0m\u001b[0m\n",
      "\u001b[0;32mzmq/backend/cython/socket.pyx\u001b[0m in \u001b[0;36mzmq.backend.cython.socket.Socket.recv\u001b[0;34m()\u001b[0m\n",
      "\u001b[0;32mzmq/backend/cython/socket.pyx\u001b[0m in \u001b[0;36mzmq.backend.cython.socket.Socket.recv\u001b[0;34m()\u001b[0m\n",
      "\u001b[0;32mzmq/backend/cython/socket.pyx\u001b[0m in \u001b[0;36mzmq.backend.cython.socket._recv_copy\u001b[0;34m()\u001b[0m\n",
      "\u001b[0;32m/opt/anaconda3/lib/python3.7/site-packages/zmq/backend/cython/checkrc.pxd\u001b[0m in \u001b[0;36mzmq.backend.cython.checkrc._check_rc\u001b[0;34m()\u001b[0m\n",
      "\u001b[0;31mKeyboardInterrupt\u001b[0m: ",
      "\nDuring handling of the above exception, another exception occurred:\n",
      "\u001b[0;31mKeyboardInterrupt\u001b[0m                         Traceback (most recent call last)",
      "\u001b[0;32m<ipython-input-12-180ac9808a84>\u001b[0m in \u001b[0;36m<module>\u001b[0;34m\u001b[0m\n\u001b[1;32m      6\u001b[0m     \u001b[0;32mfor\u001b[0m \u001b[0mi\u001b[0m \u001b[0;32min\u001b[0m \u001b[0memp\u001b[0m\u001b[0;34m:\u001b[0m\u001b[0;34m\u001b[0m\u001b[0;34m\u001b[0m\u001b[0m\n\u001b[1;32m      7\u001b[0m         \u001b[0mprint\u001b[0m\u001b[0;34m(\u001b[0m\u001b[0mi\u001b[0m\u001b[0;34m)\u001b[0m\u001b[0;34m\u001b[0m\u001b[0;34m\u001b[0m\u001b[0m\n\u001b[0;32m----> 8\u001b[0;31m     \u001b[0mx\u001b[0m\u001b[0;34m=\u001b[0m\u001b[0minput\u001b[0m\u001b[0;34m(\u001b[0m\u001b[0;34m\"Insert or remove \"\u001b[0m\u001b[0;34m)\u001b[0m\u001b[0;34m\u001b[0m\u001b[0;34m\u001b[0m\u001b[0m\n\u001b[0m\u001b[1;32m      9\u001b[0m     \u001b[0;32mif\u001b[0m \u001b[0mx\u001b[0m\u001b[0;34m==\u001b[0m\u001b[0;34m\"insert\"\u001b[0m\u001b[0;34m:\u001b[0m\u001b[0;34m\u001b[0m\u001b[0;34m\u001b[0m\u001b[0m\n\u001b[1;32m     10\u001b[0m         \u001b[0my\u001b[0m\u001b[0;34m=\u001b[0m\u001b[0minput\u001b[0m\u001b[0;34m(\u001b[0m\u001b[0;34m\"Name? \"\u001b[0m\u001b[0;34m)\u001b[0m\u001b[0;34m\u001b[0m\u001b[0;34m\u001b[0m\u001b[0m\n",
      "\u001b[0;32m/opt/anaconda3/lib/python3.7/site-packages/ipykernel/kernelbase.py\u001b[0m in \u001b[0;36mraw_input\u001b[0;34m(self, prompt)\u001b[0m\n\u001b[1;32m    858\u001b[0m             \u001b[0mself\u001b[0m\u001b[0;34m.\u001b[0m\u001b[0m_parent_ident\u001b[0m\u001b[0;34m,\u001b[0m\u001b[0;34m\u001b[0m\u001b[0;34m\u001b[0m\u001b[0m\n\u001b[1;32m    859\u001b[0m             \u001b[0mself\u001b[0m\u001b[0;34m.\u001b[0m\u001b[0m_parent_header\u001b[0m\u001b[0;34m,\u001b[0m\u001b[0;34m\u001b[0m\u001b[0;34m\u001b[0m\u001b[0m\n\u001b[0;32m--> 860\u001b[0;31m             \u001b[0mpassword\u001b[0m\u001b[0;34m=\u001b[0m\u001b[0;32mFalse\u001b[0m\u001b[0;34m,\u001b[0m\u001b[0;34m\u001b[0m\u001b[0;34m\u001b[0m\u001b[0m\n\u001b[0m\u001b[1;32m    861\u001b[0m         )\n\u001b[1;32m    862\u001b[0m \u001b[0;34m\u001b[0m\u001b[0m\n",
      "\u001b[0;32m/opt/anaconda3/lib/python3.7/site-packages/ipykernel/kernelbase.py\u001b[0m in \u001b[0;36m_input_request\u001b[0;34m(self, prompt, ident, parent, password)\u001b[0m\n\u001b[1;32m    888\u001b[0m             \u001b[0;32mexcept\u001b[0m \u001b[0mKeyboardInterrupt\u001b[0m\u001b[0;34m:\u001b[0m\u001b[0;34m\u001b[0m\u001b[0;34m\u001b[0m\u001b[0m\n\u001b[1;32m    889\u001b[0m                 \u001b[0;31m# re-raise KeyboardInterrupt, to truncate traceback\u001b[0m\u001b[0;34m\u001b[0m\u001b[0;34m\u001b[0m\u001b[0;34m\u001b[0m\u001b[0m\n\u001b[0;32m--> 890\u001b[0;31m                 \u001b[0;32mraise\u001b[0m \u001b[0mKeyboardInterrupt\u001b[0m\u001b[0;34m\u001b[0m\u001b[0;34m\u001b[0m\u001b[0m\n\u001b[0m\u001b[1;32m    891\u001b[0m             \u001b[0;32melse\u001b[0m\u001b[0;34m:\u001b[0m\u001b[0;34m\u001b[0m\u001b[0;34m\u001b[0m\u001b[0m\n\u001b[1;32m    892\u001b[0m                 \u001b[0;32mbreak\u001b[0m\u001b[0;34m\u001b[0m\u001b[0;34m\u001b[0m\u001b[0m\n",
      "\u001b[0;31mKeyboardInterrupt\u001b[0m: "
     ]
    }
   ],
   "source": [
    "#34\n",
    "\n",
    "emp=[]\n",
    "while True:\n",
    "    print(f'There are {len(emp)} employees:')\n",
    "    for i in emp:\n",
    "        print(i)\n",
    "    x=input(\"Insert or remove \")\n",
    "    if x==\"insert\":\n",
    "        y=input(\"Name? \")\n",
    "        emp.append(y)\n",
    "    elif x==\"remove\":\n",
    "        y=input(\"Name? \")\n",
    "        emp.remove(y)"
   ]
  },
  {
   "cell_type": "code",
   "execution_count": 6,
   "metadata": {},
   "outputs": [
    {
     "name": "stdout",
     "output_type": "stream",
     "text": [
      "Enter a name: J\n",
      "Enter a name: A\n",
      "Enter a name: S\n",
      "Enter a name: \n",
      "The winner is... S\n"
     ]
    }
   ],
   "source": [
    "#35\n",
    "z=[]\n",
    "x=True\n",
    "import random\n",
    "while x==True:\n",
    "    y=input(\"Enter a name: \")\n",
    "    if y!=\"\":\n",
    "        z.append(y)\n",
    "    elif y==\"\":\n",
    "        print(f'The winner is... {random.choice(z)}')\n",
    "        x=False\n",
    "    "
   ]
  },
  {
   "cell_type": "code",
   "execution_count": 47,
   "metadata": {},
   "outputs": [
    {
     "name": "stdout",
     "output_type": "stream",
     "text": [
      "Enter a number: \n",
      "Please enter a number, or 'done' if you finished\n",
      "Enter a number: done\n",
      "Please enter a number, or 'done' if you finished\n",
      "Enter a number: 1\n",
      "Enter a number: 2\n",
      "Enter a number: done\n",
      "[1.0, 2.0]\n",
      "The average is 1.5.\n",
      "The minimum is 1.0.\n",
      "The maximum is 2.0.\n",
      "The standard deviation is 0.5.\n"
     ]
    }
   ],
   "source": [
    "#36\n",
    "import statistics\n",
    "arr=[]\n",
    "x=True\n",
    "while x==True:\n",
    "    numbers=input(\"Enter a number: \")\n",
    "    try:\n",
    "        if numbers!=\"done\":\n",
    "            arr.append(float(numbers))\n",
    "        elif numbers==\"done\":\n",
    "            print(f'{arr}\\nThe average is {np.mean(arr)}.\\nThe minimum is {np.min(arr)}.\\nThe maximum is {np.max(arr)}.\\nThe standard deviation is {np.std(arr)}.')\n",
    "            x=False\n",
    "    except ValueError:\n",
    "        print(\"Please enter a number, or 'done' if you finished\")\n",
    "        x=True"
   ]
  },
  {
   "cell_type": "code",
   "execution_count": 30,
   "metadata": {},
   "outputs": [],
   "source": [
    "import numpy as np"
   ]
  },
  {
   "cell_type": "code",
   "execution_count": 42,
   "metadata": {
    "scrolled": true
   },
   "outputs": [],
   "source": [
    "#37\n",
    "\n",
    "import random\n",
    "import string\n",
    "\n",
    "def random_password():\n",
    "    special=[\"!\",\"·\",\"$\",\"%\",\"&\",\"@\",\"/\",\"*\"]\n",
    "\n",
    "    l=int(input(\"What's the minimum length?: \"))\n",
    "\n",
    "\n",
    "    s=int(input(\"How many special characters?: \"))\n",
    "\n",
    "    s_1=random.sample(special, s)\n",
    "\n",
    "    n=int(input(\"How many numbers?: \"))\n",
    "    n_1=random.sample(range(10),n)\n",
    "\n",
    "    l_1=random.sample(string.ascii_lowercase,l-s-n)\n",
    "\n",
    "    passw=s_1+n_1+l_1\n",
    "    random.shuffle(passw)\n",
    "    print(\"Your password is:\")\n",
    "    print(*passw,sep=\"\")\n"
   ]
  },
  {
   "cell_type": "code",
   "execution_count": 43,
   "metadata": {},
   "outputs": [
    {
     "name": "stdout",
     "output_type": "stream",
     "text": [
      "What's the minimum length?: 20\n",
      "How many special characters?: 5\n",
      "How many numbers?: 5\n",
      "Your password is:\n",
      "o7fxg0e·wzt2%4k/l3&@\n"
     ]
    }
   ],
   "source": [
    "random_password()"
   ]
  },
  {
   "cell_type": "code",
   "execution_count": 63,
   "metadata": {},
   "outputs": [
    {
     "name": "stdout",
     "output_type": "stream",
     "text": [
      "Enter a list of numbers, separated by space:3 4 5 7 8 \n",
      "The even numbers are: 4 8\n"
     ]
    }
   ],
   "source": [
    "#38\n",
    "n = input(\"Enter a list of numbers, separated by space:\")\n",
    "l=n.split()\n",
    "l_1 = []\n",
    "for i in l:\n",
    "    if float(i)%2==0:\n",
    "        l_1.append(i)\n",
    "\n",
    "\n",
    "print(\"The even numbers are:\",*l_1)\n",
    "\n",
    "\n",
    "        "
   ]
  },
  {
   "cell_type": "code",
   "execution_count": 33,
   "metadata": {},
   "outputs": [
    {
     "name": "stdout",
     "output_type": "stream",
     "text": [
      "First and Last Name, Position and Datejuan,ceo,12\n",
      "[['juan', 'ceo', '12']]\n",
      "First and Last Name, Position and Datemaria,cfo,10\n",
      "[['juan', 'ceo', '12'], ['maria', 'cfo', '10']]\n",
      "First and Last Name, Position and Date\n",
      "+-------+----------+-----------------+\n",
      "|  Name | Position | Separation Date |\n",
      "+-------+----------+-----------------+\n",
      "|  juan |   ceo    |        12       |\n",
      "| maria |   cfo    |        10       |\n",
      "+-------+----------+-----------------+\n"
     ]
    }
   ],
   "source": [
    "import prettytable\n",
    "\n",
    "t = prettytable.PrettyTable(['Name', 'Position', 'Separation Date'])\n",
    "q=[]\n",
    "x=True\n",
    "while x==True:\n",
    "        inp=input(\"First and Last Name, Position and Date\")\n",
    "        if inp is not \"\":\n",
    "            q.append(inp.split(\",\"))\n",
    "            print(q)\n",
    "        else:\n",
    "            x=False\n",
    "            q.sort()\n",
    "            for i in q: \n",
    "                a=i[0]\n",
    "                b=i[1]\n",
    "                c=i[2]\n",
    "                t.add_row([a, b, c])\n",
    "print(t)\n",
    "            \n",
    "\n"
   ]
  },
  {
   "cell_type": "code",
   "execution_count": 68,
   "metadata": {},
   "outputs": [
    {
     "name": "stdout",
     "output_type": "stream",
     "text": [
      "+-------------------+\n",
      "|  Total of 7 names |\n",
      "+-------------------+\n",
      "|    Johnson, Jim   |\n",
      "|    Jones, Aaron   |\n",
      "|    Jones, Chris   |\n",
      "|     Ling, Mai     |\n",
      "|  Swift, Geoffrey  |\n",
      "|    Xiong, Fong    |\n",
      "| Zarnecki, Sabrina |\n",
      "+-------------------+\n"
     ]
    }
   ],
   "source": [
    "#41\n",
    "op=open(\"untitled_2.txt\")\n",
    "e=[i.rstrip() for i in op]\n",
    "sort=sorted(e)\n",
    "t = prettytable.PrettyTable([f'Total of {len(sort)} names'])\n",
    "for i in sort:\n",
    "    t.add_row([i])\n",
    "print(t)\n",
    "op.close()"
   ]
  },
  {
   "cell_type": "code",
   "execution_count": 78,
   "metadata": {},
   "outputs": [
    {
     "name": "stdout",
     "output_type": "stream",
     "text": [
      "+----------+----------+--------+\n",
      "|   Last   |  First   | Salary |\n",
      "+----------+----------+--------+\n",
      "|   Ling   |   Mai    | 55900  |\n",
      "| Johnson  |   Jim    | 56500  |\n",
      "|  Jones   |  Aaron   | 46000  |\n",
      "|  Jones   |  Chris   | 34500  |\n",
      "|  Swift   | Geoffrey | 14200  |\n",
      "|  Xiong   |   Fong   | 65000  |\n",
      "| Zarnecki | Sabrina  | 51500  |\n",
      "+----------+----------+--------+\n"
     ]
    }
   ],
   "source": [
    "import csv\n",
    "t = prettytable.PrettyTable(['Last','First','Salary'])\n",
    "with open('untitled_2.txt') as file:\n",
    "    reader = csv.reader(file)\n",
    "    for row in reader:\n",
    "        t.add_row(row)\n",
    "    print(t)\n",
    "    file.close()"
   ]
  },
  {
   "cell_type": "code",
   "execution_count": 4,
   "metadata": {},
   "outputs": [
    {
     "name": "stdout",
     "output_type": "stream",
     "text": [
      "The current working directory is /Users/JulioMF/Desktop/programming/Python/exercises_for_programmers_book\n"
     ]
    }
   ],
   "source": [
    "#43\n",
    "import os\n",
    "path = os.getcwd()\n",
    "print (\"The current working directory is %s\" % path)"
   ]
  },
  {
   "cell_type": "code",
   "execution_count": 11,
   "metadata": {},
   "outputs": [
    {
     "name": "stdout",
     "output_type": "stream",
     "text": [
      "Enter the name of the site: keepithuman\n",
      "Enter the name of the author: Ricardo Climent\n",
      "JavaScript folder? y\n",
      "CSS folder? y\n",
      "Successfully created the directory /Users/JulioMF/Desktop/programming/Python/exercises_for_programmers_book \n",
      "Successfully created the directory js\n",
      "Successfully created the directory css\n"
     ]
    }
   ],
   "source": [
    "name = input(\"Enter the name of the site: \")\n",
    "auth = input(\"Enter the name of the author: \")\n",
    "java = bool(input(\"JavaScript folder? \"))\n",
    "css = bool(input(\"CSS folder? \"))\n",
    "\n",
    "try:\n",
    "    os.mkdir(name)\n",
    "except OSError:\n",
    "    print (\"Creation of the directory %s failed\" % path)\n",
    "else:\n",
    "    print (\"Successfully created the directory %s \" % path)\n",
    "if java==True:\n",
    "    try:\n",
    "        os.mkdir(\"js\")\n",
    "    except OSError:\n",
    "        print (\"Creation of the directory failed js\")\n",
    "    else:\n",
    "        print (\"Successfully created the directory js\")\n",
    "if css==True:\n",
    "    try:\n",
    "        os.mkdir(\"css\")\n",
    "    except OSError:\n",
    "        print (\"Creation of the directory failed css\")\n",
    "    else:\n",
    "        print (\"Successfully created the directory css\")"
   ]
  },
  {
   "cell_type": "code",
   "execution_count": 9,
   "metadata": {},
   "outputs": [
    {
     "name": "stdout",
     "output_type": "stream",
     "text": [
      "True\n"
     ]
    }
   ],
   "source": [
    "print(java)"
   ]
  },
  {
   "cell_type": "code",
   "execution_count": 1,
   "metadata": {},
   "outputs": [
    {
     "name": "stdout",
     "output_type": "stream",
     "text": [
      "What is the product name? Mac\n",
      "NAME: Mac\n",
      "PRICE: 75\n",
      "QUANTITY: 7\n",
      "Would you like to buy it? y\n",
      "Thank you! CF=+75\n"
     ]
    }
   ],
   "source": [
    "#44\n",
    "def data_base():\n",
    "    n=\"name\"\n",
    "    p=\"price\"\n",
    "    q=\"quantity\"\n",
    "    search=input(\"What is the product name? \")\n",
    "    products=[{n:\"iPad\",p:25,q:5},\n",
    "             {n:\"iPhone\",p:50,q:2},\n",
    "             {n:\"Mac\",p:75,q:7}]\n",
    "    for i in products:\n",
    "        if search in i.values():\n",
    "            product=i\n",
    "            for a,b in i.items():\n",
    "                print(f'{a.upper()}: {b}')\n",
    "    y_or_no=bool(input(\"Would you like to buy it? \"))\n",
    "    if y_or_no==True:\n",
    "        i[q]-=1\n",
    "        print(f'Thank you! Bill: {i[p]}€')\n"
   ]
  },
  {
   "cell_type": "code",
   "execution_count": null,
   "metadata": {},
   "outputs": [],
   "source": []
  }
 ],
 "metadata": {
  "kernelspec": {
   "display_name": "Python 3",
   "language": "python",
   "name": "python3"
  },
  "language_info": {
   "codemirror_mode": {
    "name": "ipython",
    "version": 3
   },
   "file_extension": ".py",
   "mimetype": "text/x-python",
   "name": "python",
   "nbconvert_exporter": "python",
   "pygments_lexer": "ipython3",
   "version": "3.7.4"
  }
 },
 "nbformat": 4,
 "nbformat_minor": 2
}
